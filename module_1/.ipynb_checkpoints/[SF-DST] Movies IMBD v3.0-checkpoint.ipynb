{
 "cells": [
  {
   "cell_type": "code",
   "execution_count": 2,
   "metadata": {
    "_cell_guid": "b1076dfc-b9ad-4769-8c92-a6c4dae69d19",
    "_uuid": "8f2839f25d086af736a60e9eeb907d3b93b6e0e5"
   },
   "outputs": [
    {
     "name": "stdout",
     "output_type": "stream",
     "text": [
      "['.ipynb_checkpoints', 'data.csv', '[SF-DST] Movies IMBD v3.0.ipynb']\n"
     ]
    }
   ],
   "source": [
    "import numpy as np\n",
    "import pandas as pd\n",
    "import seaborn as sns\n",
    "import matplotlib.pyplot as plt\n",
    "import os\n",
    "from collections import Counter\n",
    "print(os.listdir(\".\"))"
   ]
  },
  {
   "cell_type": "code",
   "execution_count": 330,
   "metadata": {},
   "outputs": [
    {
     "data": {
      "text/html": [
       "<div>\n",
       "<style scoped>\n",
       "    .dataframe tbody tr th:only-of-type {\n",
       "        vertical-align: middle;\n",
       "    }\n",
       "\n",
       "    .dataframe tbody tr th {\n",
       "        vertical-align: top;\n",
       "    }\n",
       "\n",
       "    .dataframe thead th {\n",
       "        text-align: right;\n",
       "    }\n",
       "</style>\n",
       "<table border=\"1\" class=\"dataframe\">\n",
       "  <thead>\n",
       "    <tr style=\"text-align: right;\">\n",
       "      <th></th>\n",
       "      <th>imdb_id</th>\n",
       "      <th>popularity</th>\n",
       "      <th>budget</th>\n",
       "      <th>revenue</th>\n",
       "      <th>original_title</th>\n",
       "      <th>cast</th>\n",
       "      <th>director</th>\n",
       "      <th>tagline</th>\n",
       "      <th>overview</th>\n",
       "      <th>runtime</th>\n",
       "      <th>genres</th>\n",
       "      <th>production_companies</th>\n",
       "      <th>release_date</th>\n",
       "      <th>vote_count</th>\n",
       "      <th>vote_average</th>\n",
       "      <th>release_year</th>\n",
       "    </tr>\n",
       "  </thead>\n",
       "  <tbody>\n",
       "    <tr>\n",
       "      <td>0</td>\n",
       "      <td>tt0369610</td>\n",
       "      <td>32.985763</td>\n",
       "      <td>150000000</td>\n",
       "      <td>1513528810</td>\n",
       "      <td>Jurassic World</td>\n",
       "      <td>Chris Pratt|Bryce Dallas Howard|Irrfan Khan|Vi...</td>\n",
       "      <td>Colin Trevorrow</td>\n",
       "      <td>The park is open.</td>\n",
       "      <td>Twenty-two years after the events of Jurassic ...</td>\n",
       "      <td>124</td>\n",
       "      <td>Action|Adventure|Science Fiction|Thriller</td>\n",
       "      <td>Universal Studios|Amblin Entertainment|Legenda...</td>\n",
       "      <td>6/9/2015</td>\n",
       "      <td>5562</td>\n",
       "      <td>6.5</td>\n",
       "      <td>2015</td>\n",
       "    </tr>\n",
       "    <tr>\n",
       "      <td>1</td>\n",
       "      <td>tt1392190</td>\n",
       "      <td>28.419936</td>\n",
       "      <td>150000000</td>\n",
       "      <td>378436354</td>\n",
       "      <td>Mad Max: Fury Road</td>\n",
       "      <td>Tom Hardy|Charlize Theron|Hugh Keays-Byrne|Nic...</td>\n",
       "      <td>George Miller</td>\n",
       "      <td>What a Lovely Day.</td>\n",
       "      <td>An apocalyptic story set in the furthest reach...</td>\n",
       "      <td>120</td>\n",
       "      <td>Action|Adventure|Science Fiction|Thriller</td>\n",
       "      <td>Village Roadshow Pictures|Kennedy Miller Produ...</td>\n",
       "      <td>5/13/2015</td>\n",
       "      <td>6185</td>\n",
       "      <td>7.1</td>\n",
       "      <td>2015</td>\n",
       "    </tr>\n",
       "    <tr>\n",
       "      <td>2</td>\n",
       "      <td>tt2908446</td>\n",
       "      <td>13.112507</td>\n",
       "      <td>110000000</td>\n",
       "      <td>295238201</td>\n",
       "      <td>Insurgent</td>\n",
       "      <td>Shailene Woodley|Theo James|Kate Winslet|Ansel...</td>\n",
       "      <td>Robert Schwentke</td>\n",
       "      <td>One Choice Can Destroy You</td>\n",
       "      <td>Beatrice Prior must confront her inner demons ...</td>\n",
       "      <td>119</td>\n",
       "      <td>Adventure|Science Fiction|Thriller</td>\n",
       "      <td>Summit Entertainment|Mandeville Films|Red Wago...</td>\n",
       "      <td>3/18/2015</td>\n",
       "      <td>2480</td>\n",
       "      <td>6.3</td>\n",
       "      <td>2015</td>\n",
       "    </tr>\n",
       "    <tr>\n",
       "      <td>3</td>\n",
       "      <td>tt2488496</td>\n",
       "      <td>11.173104</td>\n",
       "      <td>200000000</td>\n",
       "      <td>2068178225</td>\n",
       "      <td>Star Wars: The Force Awakens</td>\n",
       "      <td>Harrison Ford|Mark Hamill|Carrie Fisher|Adam D...</td>\n",
       "      <td>J.J. Abrams</td>\n",
       "      <td>Every generation has a story.</td>\n",
       "      <td>Thirty years after defeating the Galactic Empi...</td>\n",
       "      <td>136</td>\n",
       "      <td>Action|Adventure|Science Fiction|Fantasy</td>\n",
       "      <td>Lucasfilm|Truenorth Productions|Bad Robot</td>\n",
       "      <td>12/15/2015</td>\n",
       "      <td>5292</td>\n",
       "      <td>7.5</td>\n",
       "      <td>2015</td>\n",
       "    </tr>\n",
       "    <tr>\n",
       "      <td>4</td>\n",
       "      <td>tt2820852</td>\n",
       "      <td>9.335014</td>\n",
       "      <td>190000000</td>\n",
       "      <td>1506249360</td>\n",
       "      <td>Furious 7</td>\n",
       "      <td>Vin Diesel|Paul Walker|Jason Statham|Michelle ...</td>\n",
       "      <td>James Wan</td>\n",
       "      <td>Vengeance Hits Home</td>\n",
       "      <td>Deckard Shaw seeks revenge against Dominic Tor...</td>\n",
       "      <td>137</td>\n",
       "      <td>Action|Crime|Thriller</td>\n",
       "      <td>Universal Pictures|Original Film|Media Rights ...</td>\n",
       "      <td>4/1/2015</td>\n",
       "      <td>2947</td>\n",
       "      <td>7.3</td>\n",
       "      <td>2015</td>\n",
       "    </tr>\n",
       "    <tr>\n",
       "      <td>5</td>\n",
       "      <td>tt1663202</td>\n",
       "      <td>9.110700</td>\n",
       "      <td>135000000</td>\n",
       "      <td>532950503</td>\n",
       "      <td>The Revenant</td>\n",
       "      <td>Leonardo DiCaprio|Tom Hardy|Will Poulter|Domhn...</td>\n",
       "      <td>Alejandro GonzÃ¡lez IÃ±Ã¡rritu</td>\n",
       "      <td>(n. One who has returned, as if from the dead.)</td>\n",
       "      <td>In the 1820s, a frontiersman, Hugh Glass, sets...</td>\n",
       "      <td>156</td>\n",
       "      <td>Western|Drama|Adventure|Thriller</td>\n",
       "      <td>Regency Enterprises|Appian Way|CatchPlay|Anony...</td>\n",
       "      <td>12/25/2015</td>\n",
       "      <td>3929</td>\n",
       "      <td>7.2</td>\n",
       "      <td>2015</td>\n",
       "    </tr>\n",
       "    <tr>\n",
       "      <td>6</td>\n",
       "      <td>tt1340138</td>\n",
       "      <td>8.654359</td>\n",
       "      <td>155000000</td>\n",
       "      <td>440603537</td>\n",
       "      <td>Terminator Genisys</td>\n",
       "      <td>Arnold Schwarzenegger|Jason Clarke|Emilia Clar...</td>\n",
       "      <td>Alan Taylor</td>\n",
       "      <td>Reset the future</td>\n",
       "      <td>The year is 2029. John Connor, leader of the r...</td>\n",
       "      <td>125</td>\n",
       "      <td>Science Fiction|Action|Thriller|Adventure</td>\n",
       "      <td>Paramount Pictures|Skydance Productions</td>\n",
       "      <td>6/23/2015</td>\n",
       "      <td>2598</td>\n",
       "      <td>5.8</td>\n",
       "      <td>2015</td>\n",
       "    </tr>\n",
       "    <tr>\n",
       "      <td>7</td>\n",
       "      <td>tt3659388</td>\n",
       "      <td>7.667400</td>\n",
       "      <td>108000000</td>\n",
       "      <td>595380321</td>\n",
       "      <td>The Martian</td>\n",
       "      <td>Matt Damon|Jessica Chastain|Kristen Wiig|Jeff ...</td>\n",
       "      <td>Ridley Scott</td>\n",
       "      <td>Bring Him Home</td>\n",
       "      <td>During a manned mission to Mars, Astronaut Mar...</td>\n",
       "      <td>141</td>\n",
       "      <td>Drama|Adventure|Science Fiction</td>\n",
       "      <td>Twentieth Century Fox Film Corporation|Scott F...</td>\n",
       "      <td>9/30/2015</td>\n",
       "      <td>4572</td>\n",
       "      <td>7.6</td>\n",
       "      <td>2015</td>\n",
       "    </tr>\n",
       "    <tr>\n",
       "      <td>8</td>\n",
       "      <td>tt2293640</td>\n",
       "      <td>7.404165</td>\n",
       "      <td>74000000</td>\n",
       "      <td>1156730962</td>\n",
       "      <td>Minions</td>\n",
       "      <td>Sandra Bullock|Jon Hamm|Michael Keaton|Allison...</td>\n",
       "      <td>Kyle Balda|Pierre Coffin</td>\n",
       "      <td>Before Gru, they had a history of bad bosses</td>\n",
       "      <td>Minions Stuart, Kevin and Bob are recruited by...</td>\n",
       "      <td>91</td>\n",
       "      <td>Family|Animation|Adventure|Comedy</td>\n",
       "      <td>Universal Pictures|Illumination Entertainment</td>\n",
       "      <td>6/17/2015</td>\n",
       "      <td>2893</td>\n",
       "      <td>6.5</td>\n",
       "      <td>2015</td>\n",
       "    </tr>\n",
       "    <tr>\n",
       "      <td>9</td>\n",
       "      <td>tt2096673</td>\n",
       "      <td>6.326804</td>\n",
       "      <td>175000000</td>\n",
       "      <td>853708609</td>\n",
       "      <td>Inside Out</td>\n",
       "      <td>Amy Poehler|Phyllis Smith|Richard Kind|Bill Ha...</td>\n",
       "      <td>Pete Docter</td>\n",
       "      <td>Meet the little voices inside your head.</td>\n",
       "      <td>Growing up can be a bumpy road, and it's no ex...</td>\n",
       "      <td>94</td>\n",
       "      <td>Comedy|Animation|Family</td>\n",
       "      <td>Walt Disney Pictures|Pixar Animation Studios|W...</td>\n",
       "      <td>6/9/2015</td>\n",
       "      <td>3935</td>\n",
       "      <td>8.0</td>\n",
       "      <td>2015</td>\n",
       "    </tr>\n",
       "    <tr>\n",
       "      <td>10</td>\n",
       "      <td>tt2379713</td>\n",
       "      <td>6.200282</td>\n",
       "      <td>245000000</td>\n",
       "      <td>880674609</td>\n",
       "      <td>Spectre</td>\n",
       "      <td>Daniel Craig|Christoph Waltz|LÃ©a Seydoux|Ralp...</td>\n",
       "      <td>Sam Mendes</td>\n",
       "      <td>A Plan No One Escapes</td>\n",
       "      <td>A cryptic message from Bondâ€™s past sends him...</td>\n",
       "      <td>148</td>\n",
       "      <td>Action|Adventure|Crime</td>\n",
       "      <td>Columbia Pictures|Danjaq|B24</td>\n",
       "      <td>10/26/2015</td>\n",
       "      <td>3254</td>\n",
       "      <td>6.2</td>\n",
       "      <td>2015</td>\n",
       "    </tr>\n",
       "    <tr>\n",
       "      <td>11</td>\n",
       "      <td>tt1617661</td>\n",
       "      <td>6.189369</td>\n",
       "      <td>176000003</td>\n",
       "      <td>183987723</td>\n",
       "      <td>Jupiter Ascending</td>\n",
       "      <td>Mila Kunis|Channing Tatum|Sean Bean|Eddie Redm...</td>\n",
       "      <td>Lana Wachowski|Lilly Wachowski</td>\n",
       "      <td>Expand your universe.</td>\n",
       "      <td>In a universe where human genetic material is ...</td>\n",
       "      <td>124</td>\n",
       "      <td>Science Fiction|Fantasy|Action|Adventure</td>\n",
       "      <td>Village Roadshow Pictures|Dune Entertainment|A...</td>\n",
       "      <td>2/4/2015</td>\n",
       "      <td>1937</td>\n",
       "      <td>5.2</td>\n",
       "      <td>2015</td>\n",
       "    </tr>\n",
       "    <tr>\n",
       "      <td>12</td>\n",
       "      <td>tt0470752</td>\n",
       "      <td>6.118847</td>\n",
       "      <td>15000000</td>\n",
       "      <td>36869414</td>\n",
       "      <td>Ex Machina</td>\n",
       "      <td>Domhnall Gleeson|Alicia Vikander|Oscar Isaac|S...</td>\n",
       "      <td>Alex Garland</td>\n",
       "      <td>There is nothing more human than the will to s...</td>\n",
       "      <td>Caleb, a 26 year old coder at the world's larg...</td>\n",
       "      <td>108</td>\n",
       "      <td>Drama|Science Fiction</td>\n",
       "      <td>DNA Films|Universal Pictures International (UP...</td>\n",
       "      <td>1/21/2015</td>\n",
       "      <td>2854</td>\n",
       "      <td>7.6</td>\n",
       "      <td>2015</td>\n",
       "    </tr>\n",
       "    <tr>\n",
       "      <td>13</td>\n",
       "      <td>tt2120120</td>\n",
       "      <td>5.984995</td>\n",
       "      <td>88000000</td>\n",
       "      <td>243637091</td>\n",
       "      <td>Pixels</td>\n",
       "      <td>Adam Sandler|Michelle Monaghan|Peter Dinklage|...</td>\n",
       "      <td>Chris Columbus</td>\n",
       "      <td>Game On.</td>\n",
       "      <td>Video game experts are recruited by the milita...</td>\n",
       "      <td>105</td>\n",
       "      <td>Action|Comedy|Science Fiction</td>\n",
       "      <td>Columbia Pictures|Happy Madison Productions</td>\n",
       "      <td>7/16/2015</td>\n",
       "      <td>1575</td>\n",
       "      <td>5.8</td>\n",
       "      <td>2015</td>\n",
       "    </tr>\n",
       "    <tr>\n",
       "      <td>14</td>\n",
       "      <td>tt2395427</td>\n",
       "      <td>5.944927</td>\n",
       "      <td>280000000</td>\n",
       "      <td>1405035767</td>\n",
       "      <td>Avengers: Age of Ultron</td>\n",
       "      <td>Robert Downey Jr.|Chris Hemsworth|Mark Ruffalo...</td>\n",
       "      <td>Joss Whedon</td>\n",
       "      <td>A New Age Has Come.</td>\n",
       "      <td>When Tony Stark tries to jumpstart a dormant p...</td>\n",
       "      <td>141</td>\n",
       "      <td>Action|Adventure|Science Fiction</td>\n",
       "      <td>Marvel Studios|Prime Focus|Revolution Sun Studios</td>\n",
       "      <td>4/22/2015</td>\n",
       "      <td>4304</td>\n",
       "      <td>7.4</td>\n",
       "      <td>2015</td>\n",
       "    </tr>\n",
       "    <tr>\n",
       "      <td>15</td>\n",
       "      <td>tt3460252</td>\n",
       "      <td>5.898400</td>\n",
       "      <td>44000000</td>\n",
       "      <td>155760117</td>\n",
       "      <td>The Hateful Eight</td>\n",
       "      <td>Samuel L. Jackson|Kurt Russell|Jennifer Jason ...</td>\n",
       "      <td>Quentin Tarantino</td>\n",
       "      <td>No one comes up here without a damn good reason.</td>\n",
       "      <td>Bounty hunters seek shelter from a raging bliz...</td>\n",
       "      <td>167</td>\n",
       "      <td>Crime|Drama|Mystery|Western</td>\n",
       "      <td>Double Feature Films|The Weinstein Company|Fil...</td>\n",
       "      <td>12/25/2015</td>\n",
       "      <td>2389</td>\n",
       "      <td>7.4</td>\n",
       "      <td>2015</td>\n",
       "    </tr>\n",
       "    <tr>\n",
       "      <td>16</td>\n",
       "      <td>tt2446042</td>\n",
       "      <td>5.749758</td>\n",
       "      <td>48000000</td>\n",
       "      <td>325771424</td>\n",
       "      <td>Taken 3</td>\n",
       "      <td>Liam Neeson|Forest Whitaker|Maggie Grace|Famke...</td>\n",
       "      <td>Olivier Megaton</td>\n",
       "      <td>It Ends Here</td>\n",
       "      <td>Ex-government operative Bryan Mills finds his ...</td>\n",
       "      <td>109</td>\n",
       "      <td>Crime|Action|Thriller</td>\n",
       "      <td>Twentieth Century Fox Film Corporation|M6 Film...</td>\n",
       "      <td>1/1/2015</td>\n",
       "      <td>1578</td>\n",
       "      <td>6.1</td>\n",
       "      <td>2015</td>\n",
       "    </tr>\n",
       "    <tr>\n",
       "      <td>17</td>\n",
       "      <td>tt0478970</td>\n",
       "      <td>5.573184</td>\n",
       "      <td>130000000</td>\n",
       "      <td>518602163</td>\n",
       "      <td>Ant-Man</td>\n",
       "      <td>Paul Rudd|Michael Douglas|Evangeline Lilly|Cor...</td>\n",
       "      <td>Peyton Reed</td>\n",
       "      <td>Heroes Don't Get Any Bigger</td>\n",
       "      <td>Armed with the astonishing ability to shrink i...</td>\n",
       "      <td>115</td>\n",
       "      <td>Science Fiction|Action|Adventure</td>\n",
       "      <td>Marvel Studios</td>\n",
       "      <td>7/14/2015</td>\n",
       "      <td>3779</td>\n",
       "      <td>7.0</td>\n",
       "      <td>2015</td>\n",
       "    </tr>\n",
       "    <tr>\n",
       "      <td>18</td>\n",
       "      <td>tt1661199</td>\n",
       "      <td>5.556818</td>\n",
       "      <td>95000000</td>\n",
       "      <td>542351353</td>\n",
       "      <td>Cinderella</td>\n",
       "      <td>Lily James|Cate Blanchett|Richard Madden|Helen...</td>\n",
       "      <td>Kenneth Branagh</td>\n",
       "      <td>Midnight is just the beginning.</td>\n",
       "      <td>When her father unexpectedly passes away, youn...</td>\n",
       "      <td>112</td>\n",
       "      <td>Romance|Fantasy|Family|Drama</td>\n",
       "      <td>Walt Disney Pictures|Genre Films|Beagle Pug Fi...</td>\n",
       "      <td>3/12/2015</td>\n",
       "      <td>1495</td>\n",
       "      <td>6.8</td>\n",
       "      <td>2015</td>\n",
       "    </tr>\n",
       "    <tr>\n",
       "      <td>19</td>\n",
       "      <td>tt1951266</td>\n",
       "      <td>5.476958</td>\n",
       "      <td>160000000</td>\n",
       "      <td>650523427</td>\n",
       "      <td>The Hunger Games: Mockingjay - Part 2</td>\n",
       "      <td>Jennifer Lawrence|Josh Hutcherson|Liam Hemswor...</td>\n",
       "      <td>Francis Lawrence</td>\n",
       "      <td>The fire will burn forever.</td>\n",
       "      <td>With the nation of Panem in a full scale war, ...</td>\n",
       "      <td>136</td>\n",
       "      <td>War|Adventure|Science Fiction</td>\n",
       "      <td>Studio Babelsberg|StudioCanal|Lionsgate|Walt D...</td>\n",
       "      <td>11/18/2015</td>\n",
       "      <td>2380</td>\n",
       "      <td>6.5</td>\n",
       "      <td>2015</td>\n",
       "    </tr>\n",
       "    <tr>\n",
       "      <td>20</td>\n",
       "      <td>tt1964418</td>\n",
       "      <td>5.462138</td>\n",
       "      <td>190000000</td>\n",
       "      <td>209035668</td>\n",
       "      <td>Tomorrowland</td>\n",
       "      <td>Britt Robertson|George Clooney|Raffey Cassidy|...</td>\n",
       "      <td>Brad Bird</td>\n",
       "      <td>Imagine a world where nothing is impossible.</td>\n",
       "      <td>Bound by a shared destiny, a bright, optimisti...</td>\n",
       "      <td>130</td>\n",
       "      <td>Action|Family|Science Fiction|Adventure|Mystery</td>\n",
       "      <td>Walt Disney Pictures|Babieka|A113</td>\n",
       "      <td>5/19/2015</td>\n",
       "      <td>1899</td>\n",
       "      <td>6.2</td>\n",
       "      <td>2015</td>\n",
       "    </tr>\n",
       "    <tr>\n",
       "      <td>21</td>\n",
       "      <td>tt1798684</td>\n",
       "      <td>5.337064</td>\n",
       "      <td>30000000</td>\n",
       "      <td>91709827</td>\n",
       "      <td>Southpaw</td>\n",
       "      <td>Jake Gyllenhaal|Rachel McAdams|Forest Whitaker...</td>\n",
       "      <td>Antoine Fuqua</td>\n",
       "      <td>Believe in Hope.</td>\n",
       "      <td>Billy \"The Great\" Hope, the reigning junior mi...</td>\n",
       "      <td>123</td>\n",
       "      <td>Action|Drama</td>\n",
       "      <td>Escape Artists|Riche-Ludwig Productions</td>\n",
       "      <td>6/15/2015</td>\n",
       "      <td>1386</td>\n",
       "      <td>7.3</td>\n",
       "      <td>2015</td>\n",
       "    </tr>\n",
       "    <tr>\n",
       "      <td>22</td>\n",
       "      <td>tt2126355</td>\n",
       "      <td>4.907832</td>\n",
       "      <td>110000000</td>\n",
       "      <td>470490832</td>\n",
       "      <td>San Andreas</td>\n",
       "      <td>Dwayne Johnson|Alexandra Daddario|Carla Gugino...</td>\n",
       "      <td>Brad Peyton</td>\n",
       "      <td>A rescue pilot survived an earthquake, this is...</td>\n",
       "      <td>In the aftermath of a massive earthquake in Ca...</td>\n",
       "      <td>114</td>\n",
       "      <td>Action|Drama|Thriller</td>\n",
       "      <td>New Line Cinema|Village Roadshow Pictures|Warn...</td>\n",
       "      <td>5/27/2015</td>\n",
       "      <td>2060</td>\n",
       "      <td>6.1</td>\n",
       "      <td>2015</td>\n",
       "    </tr>\n",
       "    <tr>\n",
       "      <td>23</td>\n",
       "      <td>tt2322441</td>\n",
       "      <td>4.710402</td>\n",
       "      <td>40000000</td>\n",
       "      <td>569651467</td>\n",
       "      <td>Fifty Shades of Grey</td>\n",
       "      <td>Dakota Johnson|Jamie Dornan|Jennifer Ehle|Eloi...</td>\n",
       "      <td>Sam Taylor-Johnson</td>\n",
       "      <td>Are you curious?</td>\n",
       "      <td>When college senior Anastasia Steele steps in ...</td>\n",
       "      <td>125</td>\n",
       "      <td>Drama|Romance</td>\n",
       "      <td>Focus Features|Trigger Street Productions|Mich...</td>\n",
       "      <td>2/11/2015</td>\n",
       "      <td>1865</td>\n",
       "      <td>5.3</td>\n",
       "      <td>2015</td>\n",
       "    </tr>\n",
       "    <tr>\n",
       "      <td>24</td>\n",
       "      <td>tt1596363</td>\n",
       "      <td>4.648046</td>\n",
       "      <td>28000000</td>\n",
       "      <td>133346506</td>\n",
       "      <td>The Big Short</td>\n",
       "      <td>Christian Bale|Steve Carell|Ryan Gosling|Brad ...</td>\n",
       "      <td>Adam McKay</td>\n",
       "      <td>This is a true story.</td>\n",
       "      <td>The men who made millions from a global econom...</td>\n",
       "      <td>130</td>\n",
       "      <td>Comedy|Drama</td>\n",
       "      <td>Paramount Pictures|Plan B Entertainment|Regenc...</td>\n",
       "      <td>12/11/2015</td>\n",
       "      <td>1545</td>\n",
       "      <td>7.3</td>\n",
       "      <td>2015</td>\n",
       "    </tr>\n",
       "    <tr>\n",
       "      <td>25</td>\n",
       "      <td>tt2381249</td>\n",
       "      <td>4.566713</td>\n",
       "      <td>150000000</td>\n",
       "      <td>682330139</td>\n",
       "      <td>Mission: Impossible - Rogue Nation</td>\n",
       "      <td>Tom Cruise|Jeremy Renner|Simon Pegg|Rebecca Fe...</td>\n",
       "      <td>Christopher McQuarrie</td>\n",
       "      <td>Desperate Times. Desperate Measures.</td>\n",
       "      <td>Ethan and team take on their most impossible m...</td>\n",
       "      <td>131</td>\n",
       "      <td>Action</td>\n",
       "      <td>Paramount Pictures|Skydance Productions|China ...</td>\n",
       "      <td>7/23/2015</td>\n",
       "      <td>2349</td>\n",
       "      <td>7.1</td>\n",
       "      <td>2015</td>\n",
       "    </tr>\n",
       "    <tr>\n",
       "      <td>26</td>\n",
       "      <td>tt2637276</td>\n",
       "      <td>4.564549</td>\n",
       "      <td>68000000</td>\n",
       "      <td>215863606</td>\n",
       "      <td>Ted 2</td>\n",
       "      <td>Mark Wahlberg|Seth MacFarlane|Amanda Seyfried|...</td>\n",
       "      <td>Seth MacFarlane</td>\n",
       "      <td>Ted is Coming, Again.</td>\n",
       "      <td>Newlywed couple Ted and Tami-Lynn want to have...</td>\n",
       "      <td>115</td>\n",
       "      <td>Comedy</td>\n",
       "      <td>Universal Pictures|Media Rights Capital|Fuzzy ...</td>\n",
       "      <td>6/25/2015</td>\n",
       "      <td>1666</td>\n",
       "      <td>6.3</td>\n",
       "      <td>2015</td>\n",
       "    </tr>\n",
       "    <tr>\n",
       "      <td>27</td>\n",
       "      <td>tt2802144</td>\n",
       "      <td>4.503789</td>\n",
       "      <td>81000000</td>\n",
       "      <td>403802136</td>\n",
       "      <td>Kingsman: The Secret Service</td>\n",
       "      <td>Taron Egerton|Colin Firth|Samuel L. Jackson|Mi...</td>\n",
       "      <td>Matthew Vaughn</td>\n",
       "      <td>Manners maketh man.</td>\n",
       "      <td>The story of a super-secret spy organization t...</td>\n",
       "      <td>130</td>\n",
       "      <td>Crime|Comedy|Action|Adventure</td>\n",
       "      <td>Twentieth Century Fox Film Corporation|Marv Fi...</td>\n",
       "      <td>1/24/2015</td>\n",
       "      <td>3833</td>\n",
       "      <td>7.6</td>\n",
       "      <td>2015</td>\n",
       "    </tr>\n",
       "    <tr>\n",
       "      <td>28</td>\n",
       "      <td>tt1895587</td>\n",
       "      <td>4.062293</td>\n",
       "      <td>20000000</td>\n",
       "      <td>88346473</td>\n",
       "      <td>Spotlight</td>\n",
       "      <td>Mark Ruffalo|Michael Keaton|Rachel McAdams|Lie...</td>\n",
       "      <td>Tom McCarthy</td>\n",
       "      <td>Break the story. Break the silence.</td>\n",
       "      <td>The true story of how The Boston Globe uncover...</td>\n",
       "      <td>128</td>\n",
       "      <td>Drama|Thriller|History</td>\n",
       "      <td>Participant Media|Open Road Films|Anonymous Co...</td>\n",
       "      <td>11/6/2015</td>\n",
       "      <td>1559</td>\n",
       "      <td>7.8</td>\n",
       "      <td>2015</td>\n",
       "    </tr>\n",
       "    <tr>\n",
       "      <td>29</td>\n",
       "      <td>tt4046784</td>\n",
       "      <td>3.968891</td>\n",
       "      <td>61000000</td>\n",
       "      <td>311256926</td>\n",
       "      <td>Maze Runner: The Scorch Trials</td>\n",
       "      <td>Dylan O'Brien|Kaya Scodelario|Thomas Brodie-Sa...</td>\n",
       "      <td>Wes Ball</td>\n",
       "      <td>The Maze Was Just the Beginning.</td>\n",
       "      <td>Thomas and his fellow Gladers face their great...</td>\n",
       "      <td>132</td>\n",
       "      <td>Action|Science Fiction|Thriller</td>\n",
       "      <td>Gotham Group|Temple Hill Entertainment|TSG Ent...</td>\n",
       "      <td>9/9/2015</td>\n",
       "      <td>1849</td>\n",
       "      <td>6.4</td>\n",
       "      <td>2015</td>\n",
       "    </tr>\n",
       "    <tr>\n",
       "      <td>30</td>\n",
       "      <td>tt1823672</td>\n",
       "      <td>3.899557</td>\n",
       "      <td>49000000</td>\n",
       "      <td>102069268</td>\n",
       "      <td>Chappie</td>\n",
       "      <td>Sharlto Copley|Dev Patel|Ninja|Yolandi Visser|...</td>\n",
       "      <td>Neill Blomkamp</td>\n",
       "      <td>I am consciousness. I am alive. I am Chappie.</td>\n",
       "      <td>Every child comes into the world full of promi...</td>\n",
       "      <td>120</td>\n",
       "      <td>Crime|Action|Science Fiction</td>\n",
       "      <td>Columbia Pictures|Media Rights Capital|Sony Pi...</td>\n",
       "      <td>3/4/2015</td>\n",
       "      <td>1990</td>\n",
       "      <td>6.6</td>\n",
       "      <td>2015</td>\n",
       "    </tr>\n",
       "    <tr>\n",
       "      <td>31</td>\n",
       "      <td>tt2848292</td>\n",
       "      <td>3.877764</td>\n",
       "      <td>29000000</td>\n",
       "      <td>287506194</td>\n",
       "      <td>Pitch Perfect 2</td>\n",
       "      <td>Anna Kendrick|Rebel Wilson|Hailee Steinfeld|Br...</td>\n",
       "      <td>Elizabeth Banks</td>\n",
       "      <td>We're back pitches</td>\n",
       "      <td>The Bellas are back, and they are better than ...</td>\n",
       "      <td>115</td>\n",
       "      <td>Comedy|Music</td>\n",
       "      <td>Universal Pictures|Gold Circle Films|Brownston...</td>\n",
       "      <td>5/7/2015</td>\n",
       "      <td>1264</td>\n",
       "      <td>6.8</td>\n",
       "      <td>2015</td>\n",
       "    </tr>\n",
       "    <tr>\n",
       "      <td>32</td>\n",
       "      <td>tt3682448</td>\n",
       "      <td>3.648210</td>\n",
       "      <td>40000000</td>\n",
       "      <td>162610473</td>\n",
       "      <td>Bridge of Spies</td>\n",
       "      <td>Tom Hanks|Mark Rylance|Amy Ryan|Alan Alda|Seba...</td>\n",
       "      <td>Steven Spielberg</td>\n",
       "      <td>In the shadow of war, one man showed the world...</td>\n",
       "      <td>During the Cold War, the Soviet Union captures...</td>\n",
       "      <td>141</td>\n",
       "      <td>Thriller|Drama</td>\n",
       "      <td>DreamWorks SKG|Amblin Entertainment|Studio Bab...</td>\n",
       "      <td>10/15/2015</td>\n",
       "      <td>1638</td>\n",
       "      <td>7.1</td>\n",
       "      <td>2015</td>\n",
       "    </tr>\n",
       "    <tr>\n",
       "      <td>33</td>\n",
       "      <td>tt1051904</td>\n",
       "      <td>3.644541</td>\n",
       "      <td>58000000</td>\n",
       "      <td>150170815</td>\n",
       "      <td>Goosebumps</td>\n",
       "      <td>Jack Black|Dylan Minnette|Odeya Rush|Amy Ryan|...</td>\n",
       "      <td>Rob Letterman</td>\n",
       "      <td>The stories are alive.</td>\n",
       "      <td>A teenager teams up with the daughter of young...</td>\n",
       "      <td>103</td>\n",
       "      <td>Adventure|Horror|Comedy</td>\n",
       "      <td>Columbia Pictures|Original Film|Scholastic Ent...</td>\n",
       "      <td>8/5/2015</td>\n",
       "      <td>600</td>\n",
       "      <td>6.2</td>\n",
       "      <td>2015</td>\n",
       "    </tr>\n",
       "    <tr>\n",
       "      <td>34</td>\n",
       "      <td>tt3170832</td>\n",
       "      <td>3.557846</td>\n",
       "      <td>6000000</td>\n",
       "      <td>35401758</td>\n",
       "      <td>Room</td>\n",
       "      <td>Brie Larson|Jacob Tremblay|Joan Allen|Sean Bri...</td>\n",
       "      <td>Lenny Abrahamson</td>\n",
       "      <td>Love knows no boundaries</td>\n",
       "      <td>Jack is a young boy of 5 years old who has liv...</td>\n",
       "      <td>117</td>\n",
       "      <td>Drama|Thriller</td>\n",
       "      <td>Element Pictures|No Trace Camping|A24|Duperele...</td>\n",
       "      <td>10/16/2015</td>\n",
       "      <td>1520</td>\n",
       "      <td>8.0</td>\n",
       "      <td>2015</td>\n",
       "    </tr>\n",
       "    <tr>\n",
       "      <td>35</td>\n",
       "      <td>tt1979388</td>\n",
       "      <td>3.339135</td>\n",
       "      <td>175000000</td>\n",
       "      <td>331926147</td>\n",
       "      <td>The Good Dinosaur</td>\n",
       "      <td>Raymond Ochoa|Jack Bright|Jeffrey Wright|Franc...</td>\n",
       "      <td>Peter Sohn</td>\n",
       "      <td>Little Arms With Big Attitude</td>\n",
       "      <td>An epic journey into the world of dinosaurs wh...</td>\n",
       "      <td>93</td>\n",
       "      <td>Adventure|Animation|Comedy|Family|Fantasy</td>\n",
       "      <td>Walt Disney Pictures|Pixar Animation Studios|B...</td>\n",
       "      <td>11/14/2015</td>\n",
       "      <td>1087</td>\n",
       "      <td>6.6</td>\n",
       "      <td>2015</td>\n",
       "    </tr>\n",
       "    <tr>\n",
       "      <td>36</td>\n",
       "      <td>tt2199571</td>\n",
       "      <td>3.237370</td>\n",
       "      <td>50000000</td>\n",
       "      <td>71561644</td>\n",
       "      <td>Run All Night</td>\n",
       "      <td>Liam Neeson|Ed Harris|Joel Kinnaman|Boyd Holbr...</td>\n",
       "      <td>Jaume Collet-Serra</td>\n",
       "      <td>No sin goes unpunished</td>\n",
       "      <td>Brooklyn mobster and prolific hit man Jimmy Co...</td>\n",
       "      <td>114</td>\n",
       "      <td>Action|Crime|Drama|Mystery|Thriller</td>\n",
       "      <td>Vertigo Entertainment|Energy Entertainment|Rat...</td>\n",
       "      <td>3/11/2015</td>\n",
       "      <td>814</td>\n",
       "      <td>6.3</td>\n",
       "      <td>2015</td>\n",
       "    </tr>\n",
       "    <tr>\n",
       "      <td>37</td>\n",
       "      <td>tt2381111</td>\n",
       "      <td>3.227329</td>\n",
       "      <td>11000000</td>\n",
       "      <td>62076141</td>\n",
       "      <td>Brooklyn</td>\n",
       "      <td>Saoirse Ronan|Domhnall Gleeson|Emory Cohen|Emi...</td>\n",
       "      <td>John Crowley</td>\n",
       "      <td>Two countries, two loves, one heart</td>\n",
       "      <td>In 1950s Ireland and New York, young Ellis Lac...</td>\n",
       "      <td>111</td>\n",
       "      <td>Drama|Romance</td>\n",
       "      <td>Wildgaze Films|Irish Film Board|Item 7|Paralle...</td>\n",
       "      <td>11/4/2015</td>\n",
       "      <td>754</td>\n",
       "      <td>7.3</td>\n",
       "      <td>2015</td>\n",
       "    </tr>\n",
       "    <tr>\n",
       "      <td>38</td>\n",
       "      <td>tt1398426</td>\n",
       "      <td>3.202719</td>\n",
       "      <td>28000000</td>\n",
       "      <td>201634991</td>\n",
       "      <td>Straight Outta Compton</td>\n",
       "      <td>O'Shea Jackson Jr.|Corey Hawkins|Jason Mitchel...</td>\n",
       "      <td>F. Gary Gray</td>\n",
       "      <td>The Story of N.W.A.</td>\n",
       "      <td>In 1987, five young men, using brutally honest...</td>\n",
       "      <td>147</td>\n",
       "      <td>Drama|Music</td>\n",
       "      <td>New Line Cinema|Universal Pictures|Legendary P...</td>\n",
       "      <td>8/13/2015</td>\n",
       "      <td>918</td>\n",
       "      <td>7.7</td>\n",
       "      <td>2015</td>\n",
       "    </tr>\n",
       "    <tr>\n",
       "      <td>39</td>\n",
       "      <td>tt1618442</td>\n",
       "      <td>3.080505</td>\n",
       "      <td>90000000</td>\n",
       "      <td>140396650</td>\n",
       "      <td>The Last Witch Hunter</td>\n",
       "      <td>Vin Diesel|Rose Leslie|Michael Caine|Elijah Wo...</td>\n",
       "      <td>Breck Eisner</td>\n",
       "      <td>Hunt forever.</td>\n",
       "      <td>The modern world holds many secrets, but by fa...</td>\n",
       "      <td>106</td>\n",
       "      <td>Fantasy|Action|Adventure</td>\n",
       "      <td>Summit Entertainment|Atmosphere Entertainment ...</td>\n",
       "      <td>10/21/2015</td>\n",
       "      <td>879</td>\n",
       "      <td>5.6</td>\n",
       "      <td>2015</td>\n",
       "    </tr>\n",
       "    <tr>\n",
       "      <td>40</td>\n",
       "      <td>tt1638355</td>\n",
       "      <td>3.053421</td>\n",
       "      <td>75000000</td>\n",
       "      <td>108145109</td>\n",
       "      <td>The Man from U.N.C.L.E.</td>\n",
       "      <td>Henry Cavill|Armie Hammer|Alicia Vikander|Eliz...</td>\n",
       "      <td>Guy Ritchie</td>\n",
       "      <td>Saving the world never goes out of style.</td>\n",
       "      <td>At the height of the Cold War, a mysterious cr...</td>\n",
       "      <td>116</td>\n",
       "      <td>Comedy|Action|Adventure</td>\n",
       "      <td>Davis Entertainment|Warner Bros.|Wigram Produc...</td>\n",
       "      <td>8/13/2015</td>\n",
       "      <td>1548</td>\n",
       "      <td>7.0</td>\n",
       "      <td>2015</td>\n",
       "    </tr>\n",
       "    <tr>\n",
       "      <td>41</td>\n",
       "      <td>tt1655441</td>\n",
       "      <td>3.025852</td>\n",
       "      <td>25000000</td>\n",
       "      <td>42629776</td>\n",
       "      <td>The Age of Adaline</td>\n",
       "      <td>Blake Lively|Michiel Huisman|Harrison Ford|Ell...</td>\n",
       "      <td>Lee Toland Krieger</td>\n",
       "      <td>Love is timeless.</td>\n",
       "      <td>After 29-year-old Adaline recovers from a near...</td>\n",
       "      <td>112</td>\n",
       "      <td>Fantasy|Drama|Romance</td>\n",
       "      <td>Lakeshore Entertainment|Sidney Kimmel Entertai...</td>\n",
       "      <td>4/16/2015</td>\n",
       "      <td>1221</td>\n",
       "      <td>7.3</td>\n",
       "      <td>2015</td>\n",
       "    </tr>\n",
       "    <tr>\n",
       "      <td>42</td>\n",
       "      <td>tt3072482</td>\n",
       "      <td>3.023253</td>\n",
       "      <td>10000000</td>\n",
       "      <td>14333790</td>\n",
       "      <td>Hardcore Henry</td>\n",
       "      <td>Sharlto Copley|Haley Bennett|Danila Kozlovskiy...</td>\n",
       "      <td>Ilya Naishuller</td>\n",
       "      <td>First they made him dangerous. Then they made ...</td>\n",
       "      <td>Henry, a newly resurrected cyborg who must sav...</td>\n",
       "      <td>97</td>\n",
       "      <td>Action|Adventure|Science Fiction</td>\n",
       "      <td>Bazelevs Production|Versus Pictures</td>\n",
       "      <td>9/12/2015</td>\n",
       "      <td>396</td>\n",
       "      <td>5.9</td>\n",
       "      <td>2015</td>\n",
       "    </tr>\n",
       "    <tr>\n",
       "      <td>43</td>\n",
       "      <td>tt2224026</td>\n",
       "      <td>2.976436</td>\n",
       "      <td>135000000</td>\n",
       "      <td>368871007</td>\n",
       "      <td>Home</td>\n",
       "      <td>Jim Parsons|Rihanna|Steve Martin|Jennifer Lope...</td>\n",
       "      <td>Tim Johnson</td>\n",
       "      <td>Worlds Collide</td>\n",
       "      <td>When Earth is taken over by the overly-confide...</td>\n",
       "      <td>94</td>\n",
       "      <td>Fantasy|Comedy|Animation|Science Fiction|Family</td>\n",
       "      <td>Twentieth Century Fox Film Corporation|DreamWo...</td>\n",
       "      <td>3/18/2015</td>\n",
       "      <td>1060</td>\n",
       "      <td>6.9</td>\n",
       "      <td>2015</td>\n",
       "    </tr>\n",
       "    <tr>\n",
       "      <td>44</td>\n",
       "      <td>tt3622592</td>\n",
       "      <td>2.968254</td>\n",
       "      <td>12000000</td>\n",
       "      <td>85512300</td>\n",
       "      <td>Paper Towns</td>\n",
       "      <td>Nat Wolff|Cara Delevingne|Halston Sage|Justice...</td>\n",
       "      <td>Jake Schreier</td>\n",
       "      <td>Get Lost. Get Found.</td>\n",
       "      <td>Quentin Jacobsen has spent a lifetime loving t...</td>\n",
       "      <td>109</td>\n",
       "      <td>Drama|Mystery|Romance</td>\n",
       "      <td>Fox 2000 Pictures</td>\n",
       "      <td>7/9/2015</td>\n",
       "      <td>1252</td>\n",
       "      <td>6.2</td>\n",
       "      <td>2015</td>\n",
       "    </tr>\n",
       "    <tr>\n",
       "      <td>45</td>\n",
       "      <td>tt2402927</td>\n",
       "      <td>2.883233</td>\n",
       "      <td>11800000</td>\n",
       "      <td>40272135</td>\n",
       "      <td>Carol</td>\n",
       "      <td>Cate Blanchett|Rooney Mara|Kyle Chandler|Sarah...</td>\n",
       "      <td>Todd Haynes</td>\n",
       "      <td>Some people change your life forever.</td>\n",
       "      <td>In 1950s New York, a department-store clerk wh...</td>\n",
       "      <td>118</td>\n",
       "      <td>Romance|Drama</td>\n",
       "      <td>Killer Films|Film4|Number 9 Films</td>\n",
       "      <td>11/20/2015</td>\n",
       "      <td>562</td>\n",
       "      <td>7.1</td>\n",
       "      <td>2015</td>\n",
       "    </tr>\n",
       "    <tr>\n",
       "      <td>46</td>\n",
       "      <td>tt2361509</td>\n",
       "      <td>2.814802</td>\n",
       "      <td>35000000</td>\n",
       "      <td>194564672</td>\n",
       "      <td>The Intern</td>\n",
       "      <td>Robert De Niro|Anne Hathaway|Rene Russo|Anders...</td>\n",
       "      <td>Nancy Meyers</td>\n",
       "      <td>Experience never gets old</td>\n",
       "      <td>70-year-old widower Ben Whittaker has discover...</td>\n",
       "      <td>121</td>\n",
       "      <td>Comedy</td>\n",
       "      <td>Waverly Films|Warner Bros.</td>\n",
       "      <td>9/24/2015</td>\n",
       "      <td>1255</td>\n",
       "      <td>7.1</td>\n",
       "      <td>2015</td>\n",
       "    </tr>\n",
       "    <tr>\n",
       "      <td>47</td>\n",
       "      <td>tt2719848</td>\n",
       "      <td>2.798017</td>\n",
       "      <td>55000000</td>\n",
       "      <td>203427584</td>\n",
       "      <td>Everest</td>\n",
       "      <td>Jason Clarke|Jake Gyllenhaal|Josh Brolin|John ...</td>\n",
       "      <td>Baltasar KormÃ¡kur</td>\n",
       "      <td>The Storm Awaits.</td>\n",
       "      <td>Inspired by the incredible events surrounding ...</td>\n",
       "      <td>121</td>\n",
       "      <td>Adventure|Drama</td>\n",
       "      <td>Universal Pictures|Working Title Films|Walden ...</td>\n",
       "      <td>9/10/2015</td>\n",
       "      <td>1172</td>\n",
       "      <td>6.7</td>\n",
       "      <td>2015</td>\n",
       "    </tr>\n",
       "    <tr>\n",
       "      <td>48</td>\n",
       "      <td>tt2058673</td>\n",
       "      <td>2.614499</td>\n",
       "      <td>105000000</td>\n",
       "      <td>133718711</td>\n",
       "      <td>Point Break</td>\n",
       "      <td>Edgar RamÃ­rez|Luke Bracey|Teresa Palmer|Delro...</td>\n",
       "      <td>Ericson Core</td>\n",
       "      <td>The only law that matters is gravity</td>\n",
       "      <td>A young undercover FBI agent infiltrates a gan...</td>\n",
       "      <td>114</td>\n",
       "      <td>Action|Crime|Thriller</td>\n",
       "      <td>Studio Babelsberg|Alcon Entertainment|DMG Ente...</td>\n",
       "      <td>12/3/2015</td>\n",
       "      <td>505</td>\n",
       "      <td>5.5</td>\n",
       "      <td>2015</td>\n",
       "    </tr>\n",
       "    <tr>\n",
       "      <td>49</td>\n",
       "      <td>tt2503944</td>\n",
       "      <td>2.584264</td>\n",
       "      <td>20000000</td>\n",
       "      <td>36606743</td>\n",
       "      <td>Burnt</td>\n",
       "      <td>Bradley Cooper|Sienna Miller|Lily James|Alicia...</td>\n",
       "      <td>John Wells</td>\n",
       "      <td>Never underestimate a man with everything to l...</td>\n",
       "      <td>Adam Jones is a Chef who destroyed his career ...</td>\n",
       "      <td>100</td>\n",
       "      <td>Drama</td>\n",
       "      <td>Double Feature Films|PeaPie Films|3 Arts Enter...</td>\n",
       "      <td>10/2/2015</td>\n",
       "      <td>631</td>\n",
       "      <td>6.3</td>\n",
       "      <td>2015</td>\n",
       "    </tr>\n",
       "  </tbody>\n",
       "</table>\n",
       "</div>"
      ],
      "text/plain": [
       "      imdb_id  popularity     budget     revenue  \\\n",
       "0   tt0369610   32.985763  150000000  1513528810   \n",
       "1   tt1392190   28.419936  150000000   378436354   \n",
       "2   tt2908446   13.112507  110000000   295238201   \n",
       "3   tt2488496   11.173104  200000000  2068178225   \n",
       "4   tt2820852    9.335014  190000000  1506249360   \n",
       "5   tt1663202    9.110700  135000000   532950503   \n",
       "6   tt1340138    8.654359  155000000   440603537   \n",
       "7   tt3659388    7.667400  108000000   595380321   \n",
       "8   tt2293640    7.404165   74000000  1156730962   \n",
       "9   tt2096673    6.326804  175000000   853708609   \n",
       "10  tt2379713    6.200282  245000000   880674609   \n",
       "11  tt1617661    6.189369  176000003   183987723   \n",
       "12  tt0470752    6.118847   15000000    36869414   \n",
       "13  tt2120120    5.984995   88000000   243637091   \n",
       "14  tt2395427    5.944927  280000000  1405035767   \n",
       "15  tt3460252    5.898400   44000000   155760117   \n",
       "16  tt2446042    5.749758   48000000   325771424   \n",
       "17  tt0478970    5.573184  130000000   518602163   \n",
       "18  tt1661199    5.556818   95000000   542351353   \n",
       "19  tt1951266    5.476958  160000000   650523427   \n",
       "20  tt1964418    5.462138  190000000   209035668   \n",
       "21  tt1798684    5.337064   30000000    91709827   \n",
       "22  tt2126355    4.907832  110000000   470490832   \n",
       "23  tt2322441    4.710402   40000000   569651467   \n",
       "24  tt1596363    4.648046   28000000   133346506   \n",
       "25  tt2381249    4.566713  150000000   682330139   \n",
       "26  tt2637276    4.564549   68000000   215863606   \n",
       "27  tt2802144    4.503789   81000000   403802136   \n",
       "28  tt1895587    4.062293   20000000    88346473   \n",
       "29  tt4046784    3.968891   61000000   311256926   \n",
       "30  tt1823672    3.899557   49000000   102069268   \n",
       "31  tt2848292    3.877764   29000000   287506194   \n",
       "32  tt3682448    3.648210   40000000   162610473   \n",
       "33  tt1051904    3.644541   58000000   150170815   \n",
       "34  tt3170832    3.557846    6000000    35401758   \n",
       "35  tt1979388    3.339135  175000000   331926147   \n",
       "36  tt2199571    3.237370   50000000    71561644   \n",
       "37  tt2381111    3.227329   11000000    62076141   \n",
       "38  tt1398426    3.202719   28000000   201634991   \n",
       "39  tt1618442    3.080505   90000000   140396650   \n",
       "40  tt1638355    3.053421   75000000   108145109   \n",
       "41  tt1655441    3.025852   25000000    42629776   \n",
       "42  tt3072482    3.023253   10000000    14333790   \n",
       "43  tt2224026    2.976436  135000000   368871007   \n",
       "44  tt3622592    2.968254   12000000    85512300   \n",
       "45  tt2402927    2.883233   11800000    40272135   \n",
       "46  tt2361509    2.814802   35000000   194564672   \n",
       "47  tt2719848    2.798017   55000000   203427584   \n",
       "48  tt2058673    2.614499  105000000   133718711   \n",
       "49  tt2503944    2.584264   20000000    36606743   \n",
       "\n",
       "                           original_title  \\\n",
       "0                          Jurassic World   \n",
       "1                      Mad Max: Fury Road   \n",
       "2                               Insurgent   \n",
       "3            Star Wars: The Force Awakens   \n",
       "4                               Furious 7   \n",
       "5                            The Revenant   \n",
       "6                      Terminator Genisys   \n",
       "7                             The Martian   \n",
       "8                                 Minions   \n",
       "9                              Inside Out   \n",
       "10                                Spectre   \n",
       "11                      Jupiter Ascending   \n",
       "12                             Ex Machina   \n",
       "13                                 Pixels   \n",
       "14                Avengers: Age of Ultron   \n",
       "15                      The Hateful Eight   \n",
       "16                                Taken 3   \n",
       "17                                Ant-Man   \n",
       "18                             Cinderella   \n",
       "19  The Hunger Games: Mockingjay - Part 2   \n",
       "20                           Tomorrowland   \n",
       "21                               Southpaw   \n",
       "22                            San Andreas   \n",
       "23                   Fifty Shades of Grey   \n",
       "24                          The Big Short   \n",
       "25     Mission: Impossible - Rogue Nation   \n",
       "26                                  Ted 2   \n",
       "27           Kingsman: The Secret Service   \n",
       "28                              Spotlight   \n",
       "29         Maze Runner: The Scorch Trials   \n",
       "30                                Chappie   \n",
       "31                        Pitch Perfect 2   \n",
       "32                        Bridge of Spies   \n",
       "33                             Goosebumps   \n",
       "34                                   Room   \n",
       "35                      The Good Dinosaur   \n",
       "36                          Run All Night   \n",
       "37                               Brooklyn   \n",
       "38                 Straight Outta Compton   \n",
       "39                  The Last Witch Hunter   \n",
       "40                The Man from U.N.C.L.E.   \n",
       "41                     The Age of Adaline   \n",
       "42                         Hardcore Henry   \n",
       "43                                   Home   \n",
       "44                            Paper Towns   \n",
       "45                                  Carol   \n",
       "46                             The Intern   \n",
       "47                                Everest   \n",
       "48                            Point Break   \n",
       "49                                  Burnt   \n",
       "\n",
       "                                                 cast  \\\n",
       "0   Chris Pratt|Bryce Dallas Howard|Irrfan Khan|Vi...   \n",
       "1   Tom Hardy|Charlize Theron|Hugh Keays-Byrne|Nic...   \n",
       "2   Shailene Woodley|Theo James|Kate Winslet|Ansel...   \n",
       "3   Harrison Ford|Mark Hamill|Carrie Fisher|Adam D...   \n",
       "4   Vin Diesel|Paul Walker|Jason Statham|Michelle ...   \n",
       "5   Leonardo DiCaprio|Tom Hardy|Will Poulter|Domhn...   \n",
       "6   Arnold Schwarzenegger|Jason Clarke|Emilia Clar...   \n",
       "7   Matt Damon|Jessica Chastain|Kristen Wiig|Jeff ...   \n",
       "8   Sandra Bullock|Jon Hamm|Michael Keaton|Allison...   \n",
       "9   Amy Poehler|Phyllis Smith|Richard Kind|Bill Ha...   \n",
       "10  Daniel Craig|Christoph Waltz|LÃ©a Seydoux|Ralp...   \n",
       "11  Mila Kunis|Channing Tatum|Sean Bean|Eddie Redm...   \n",
       "12  Domhnall Gleeson|Alicia Vikander|Oscar Isaac|S...   \n",
       "13  Adam Sandler|Michelle Monaghan|Peter Dinklage|...   \n",
       "14  Robert Downey Jr.|Chris Hemsworth|Mark Ruffalo...   \n",
       "15  Samuel L. Jackson|Kurt Russell|Jennifer Jason ...   \n",
       "16  Liam Neeson|Forest Whitaker|Maggie Grace|Famke...   \n",
       "17  Paul Rudd|Michael Douglas|Evangeline Lilly|Cor...   \n",
       "18  Lily James|Cate Blanchett|Richard Madden|Helen...   \n",
       "19  Jennifer Lawrence|Josh Hutcherson|Liam Hemswor...   \n",
       "20  Britt Robertson|George Clooney|Raffey Cassidy|...   \n",
       "21  Jake Gyllenhaal|Rachel McAdams|Forest Whitaker...   \n",
       "22  Dwayne Johnson|Alexandra Daddario|Carla Gugino...   \n",
       "23  Dakota Johnson|Jamie Dornan|Jennifer Ehle|Eloi...   \n",
       "24  Christian Bale|Steve Carell|Ryan Gosling|Brad ...   \n",
       "25  Tom Cruise|Jeremy Renner|Simon Pegg|Rebecca Fe...   \n",
       "26  Mark Wahlberg|Seth MacFarlane|Amanda Seyfried|...   \n",
       "27  Taron Egerton|Colin Firth|Samuel L. Jackson|Mi...   \n",
       "28  Mark Ruffalo|Michael Keaton|Rachel McAdams|Lie...   \n",
       "29  Dylan O'Brien|Kaya Scodelario|Thomas Brodie-Sa...   \n",
       "30  Sharlto Copley|Dev Patel|Ninja|Yolandi Visser|...   \n",
       "31  Anna Kendrick|Rebel Wilson|Hailee Steinfeld|Br...   \n",
       "32  Tom Hanks|Mark Rylance|Amy Ryan|Alan Alda|Seba...   \n",
       "33  Jack Black|Dylan Minnette|Odeya Rush|Amy Ryan|...   \n",
       "34  Brie Larson|Jacob Tremblay|Joan Allen|Sean Bri...   \n",
       "35  Raymond Ochoa|Jack Bright|Jeffrey Wright|Franc...   \n",
       "36  Liam Neeson|Ed Harris|Joel Kinnaman|Boyd Holbr...   \n",
       "37  Saoirse Ronan|Domhnall Gleeson|Emory Cohen|Emi...   \n",
       "38  O'Shea Jackson Jr.|Corey Hawkins|Jason Mitchel...   \n",
       "39  Vin Diesel|Rose Leslie|Michael Caine|Elijah Wo...   \n",
       "40  Henry Cavill|Armie Hammer|Alicia Vikander|Eliz...   \n",
       "41  Blake Lively|Michiel Huisman|Harrison Ford|Ell...   \n",
       "42  Sharlto Copley|Haley Bennett|Danila Kozlovskiy...   \n",
       "43  Jim Parsons|Rihanna|Steve Martin|Jennifer Lope...   \n",
       "44  Nat Wolff|Cara Delevingne|Halston Sage|Justice...   \n",
       "45  Cate Blanchett|Rooney Mara|Kyle Chandler|Sarah...   \n",
       "46  Robert De Niro|Anne Hathaway|Rene Russo|Anders...   \n",
       "47  Jason Clarke|Jake Gyllenhaal|Josh Brolin|John ...   \n",
       "48  Edgar RamÃ­rez|Luke Bracey|Teresa Palmer|Delro...   \n",
       "49  Bradley Cooper|Sienna Miller|Lily James|Alicia...   \n",
       "\n",
       "                          director  \\\n",
       "0                  Colin Trevorrow   \n",
       "1                    George Miller   \n",
       "2                 Robert Schwentke   \n",
       "3                      J.J. Abrams   \n",
       "4                        James Wan   \n",
       "5   Alejandro GonzÃ¡lez IÃ±Ã¡rritu   \n",
       "6                      Alan Taylor   \n",
       "7                     Ridley Scott   \n",
       "8         Kyle Balda|Pierre Coffin   \n",
       "9                      Pete Docter   \n",
       "10                      Sam Mendes   \n",
       "11  Lana Wachowski|Lilly Wachowski   \n",
       "12                    Alex Garland   \n",
       "13                  Chris Columbus   \n",
       "14                     Joss Whedon   \n",
       "15               Quentin Tarantino   \n",
       "16                 Olivier Megaton   \n",
       "17                     Peyton Reed   \n",
       "18                 Kenneth Branagh   \n",
       "19                Francis Lawrence   \n",
       "20                       Brad Bird   \n",
       "21                   Antoine Fuqua   \n",
       "22                     Brad Peyton   \n",
       "23              Sam Taylor-Johnson   \n",
       "24                      Adam McKay   \n",
       "25           Christopher McQuarrie   \n",
       "26                 Seth MacFarlane   \n",
       "27                  Matthew Vaughn   \n",
       "28                    Tom McCarthy   \n",
       "29                        Wes Ball   \n",
       "30                  Neill Blomkamp   \n",
       "31                 Elizabeth Banks   \n",
       "32                Steven Spielberg   \n",
       "33                   Rob Letterman   \n",
       "34                Lenny Abrahamson   \n",
       "35                      Peter Sohn   \n",
       "36              Jaume Collet-Serra   \n",
       "37                    John Crowley   \n",
       "38                    F. Gary Gray   \n",
       "39                    Breck Eisner   \n",
       "40                     Guy Ritchie   \n",
       "41              Lee Toland Krieger   \n",
       "42                 Ilya Naishuller   \n",
       "43                     Tim Johnson   \n",
       "44                   Jake Schreier   \n",
       "45                     Todd Haynes   \n",
       "46                    Nancy Meyers   \n",
       "47              Baltasar KormÃ¡kur   \n",
       "48                    Ericson Core   \n",
       "49                      John Wells   \n",
       "\n",
       "                                              tagline  \\\n",
       "0                                   The park is open.   \n",
       "1                                  What a Lovely Day.   \n",
       "2                          One Choice Can Destroy You   \n",
       "3                       Every generation has a story.   \n",
       "4                                 Vengeance Hits Home   \n",
       "5     (n. One who has returned, as if from the dead.)   \n",
       "6                                    Reset the future   \n",
       "7                                      Bring Him Home   \n",
       "8        Before Gru, they had a history of bad bosses   \n",
       "9            Meet the little voices inside your head.   \n",
       "10                              A Plan No One Escapes   \n",
       "11                              Expand your universe.   \n",
       "12  There is nothing more human than the will to s...   \n",
       "13                                           Game On.   \n",
       "14                                A New Age Has Come.   \n",
       "15   No one comes up here without a damn good reason.   \n",
       "16                                       It Ends Here   \n",
       "17                        Heroes Don't Get Any Bigger   \n",
       "18                    Midnight is just the beginning.   \n",
       "19                        The fire will burn forever.   \n",
       "20       Imagine a world where nothing is impossible.   \n",
       "21                                   Believe in Hope.   \n",
       "22  A rescue pilot survived an earthquake, this is...   \n",
       "23                                   Are you curious?   \n",
       "24                              This is a true story.   \n",
       "25               Desperate Times. Desperate Measures.   \n",
       "26                              Ted is Coming, Again.   \n",
       "27                                Manners maketh man.   \n",
       "28                Break the story. Break the silence.   \n",
       "29                   The Maze Was Just the Beginning.   \n",
       "30      I am consciousness. I am alive. I am Chappie.   \n",
       "31                                 We're back pitches   \n",
       "32  In the shadow of war, one man showed the world...   \n",
       "33                             The stories are alive.   \n",
       "34                           Love knows no boundaries   \n",
       "35                      Little Arms With Big Attitude   \n",
       "36                             No sin goes unpunished   \n",
       "37                Two countries, two loves, one heart   \n",
       "38                                The Story of N.W.A.   \n",
       "39                                      Hunt forever.   \n",
       "40          Saving the world never goes out of style.   \n",
       "41                                  Love is timeless.   \n",
       "42  First they made him dangerous. Then they made ...   \n",
       "43                                     Worlds Collide   \n",
       "44                               Get Lost. Get Found.   \n",
       "45              Some people change your life forever.   \n",
       "46                          Experience never gets old   \n",
       "47                                  The Storm Awaits.   \n",
       "48               The only law that matters is gravity   \n",
       "49  Never underestimate a man with everything to l...   \n",
       "\n",
       "                                             overview  runtime  \\\n",
       "0   Twenty-two years after the events of Jurassic ...      124   \n",
       "1   An apocalyptic story set in the furthest reach...      120   \n",
       "2   Beatrice Prior must confront her inner demons ...      119   \n",
       "3   Thirty years after defeating the Galactic Empi...      136   \n",
       "4   Deckard Shaw seeks revenge against Dominic Tor...      137   \n",
       "5   In the 1820s, a frontiersman, Hugh Glass, sets...      156   \n",
       "6   The year is 2029. John Connor, leader of the r...      125   \n",
       "7   During a manned mission to Mars, Astronaut Mar...      141   \n",
       "8   Minions Stuart, Kevin and Bob are recruited by...       91   \n",
       "9   Growing up can be a bumpy road, and it's no ex...       94   \n",
       "10  A cryptic message from Bondâ€™s past sends him...      148   \n",
       "11  In a universe where human genetic material is ...      124   \n",
       "12  Caleb, a 26 year old coder at the world's larg...      108   \n",
       "13  Video game experts are recruited by the milita...      105   \n",
       "14  When Tony Stark tries to jumpstart a dormant p...      141   \n",
       "15  Bounty hunters seek shelter from a raging bliz...      167   \n",
       "16  Ex-government operative Bryan Mills finds his ...      109   \n",
       "17  Armed with the astonishing ability to shrink i...      115   \n",
       "18  When her father unexpectedly passes away, youn...      112   \n",
       "19  With the nation of Panem in a full scale war, ...      136   \n",
       "20  Bound by a shared destiny, a bright, optimisti...      130   \n",
       "21  Billy \"The Great\" Hope, the reigning junior mi...      123   \n",
       "22  In the aftermath of a massive earthquake in Ca...      114   \n",
       "23  When college senior Anastasia Steele steps in ...      125   \n",
       "24  The men who made millions from a global econom...      130   \n",
       "25  Ethan and team take on their most impossible m...      131   \n",
       "26  Newlywed couple Ted and Tami-Lynn want to have...      115   \n",
       "27  The story of a super-secret spy organization t...      130   \n",
       "28  The true story of how The Boston Globe uncover...      128   \n",
       "29  Thomas and his fellow Gladers face their great...      132   \n",
       "30  Every child comes into the world full of promi...      120   \n",
       "31  The Bellas are back, and they are better than ...      115   \n",
       "32  During the Cold War, the Soviet Union captures...      141   \n",
       "33  A teenager teams up with the daughter of young...      103   \n",
       "34  Jack is a young boy of 5 years old who has liv...      117   \n",
       "35  An epic journey into the world of dinosaurs wh...       93   \n",
       "36  Brooklyn mobster and prolific hit man Jimmy Co...      114   \n",
       "37  In 1950s Ireland and New York, young Ellis Lac...      111   \n",
       "38  In 1987, five young men, using brutally honest...      147   \n",
       "39  The modern world holds many secrets, but by fa...      106   \n",
       "40  At the height of the Cold War, a mysterious cr...      116   \n",
       "41  After 29-year-old Adaline recovers from a near...      112   \n",
       "42  Henry, a newly resurrected cyborg who must sav...       97   \n",
       "43  When Earth is taken over by the overly-confide...       94   \n",
       "44  Quentin Jacobsen has spent a lifetime loving t...      109   \n",
       "45  In 1950s New York, a department-store clerk wh...      118   \n",
       "46  70-year-old widower Ben Whittaker has discover...      121   \n",
       "47  Inspired by the incredible events surrounding ...      121   \n",
       "48  A young undercover FBI agent infiltrates a gan...      114   \n",
       "49  Adam Jones is a Chef who destroyed his career ...      100   \n",
       "\n",
       "                                             genres  \\\n",
       "0         Action|Adventure|Science Fiction|Thriller   \n",
       "1         Action|Adventure|Science Fiction|Thriller   \n",
       "2                Adventure|Science Fiction|Thriller   \n",
       "3          Action|Adventure|Science Fiction|Fantasy   \n",
       "4                             Action|Crime|Thriller   \n",
       "5                  Western|Drama|Adventure|Thriller   \n",
       "6         Science Fiction|Action|Thriller|Adventure   \n",
       "7                   Drama|Adventure|Science Fiction   \n",
       "8                 Family|Animation|Adventure|Comedy   \n",
       "9                           Comedy|Animation|Family   \n",
       "10                           Action|Adventure|Crime   \n",
       "11         Science Fiction|Fantasy|Action|Adventure   \n",
       "12                            Drama|Science Fiction   \n",
       "13                    Action|Comedy|Science Fiction   \n",
       "14                 Action|Adventure|Science Fiction   \n",
       "15                      Crime|Drama|Mystery|Western   \n",
       "16                            Crime|Action|Thriller   \n",
       "17                 Science Fiction|Action|Adventure   \n",
       "18                     Romance|Fantasy|Family|Drama   \n",
       "19                    War|Adventure|Science Fiction   \n",
       "20  Action|Family|Science Fiction|Adventure|Mystery   \n",
       "21                                     Action|Drama   \n",
       "22                            Action|Drama|Thriller   \n",
       "23                                    Drama|Romance   \n",
       "24                                     Comedy|Drama   \n",
       "25                                           Action   \n",
       "26                                           Comedy   \n",
       "27                    Crime|Comedy|Action|Adventure   \n",
       "28                           Drama|Thriller|History   \n",
       "29                  Action|Science Fiction|Thriller   \n",
       "30                     Crime|Action|Science Fiction   \n",
       "31                                     Comedy|Music   \n",
       "32                                   Thriller|Drama   \n",
       "33                          Adventure|Horror|Comedy   \n",
       "34                                   Drama|Thriller   \n",
       "35        Adventure|Animation|Comedy|Family|Fantasy   \n",
       "36              Action|Crime|Drama|Mystery|Thriller   \n",
       "37                                    Drama|Romance   \n",
       "38                                      Drama|Music   \n",
       "39                         Fantasy|Action|Adventure   \n",
       "40                          Comedy|Action|Adventure   \n",
       "41                            Fantasy|Drama|Romance   \n",
       "42                 Action|Adventure|Science Fiction   \n",
       "43  Fantasy|Comedy|Animation|Science Fiction|Family   \n",
       "44                            Drama|Mystery|Romance   \n",
       "45                                    Romance|Drama   \n",
       "46                                           Comedy   \n",
       "47                                  Adventure|Drama   \n",
       "48                            Action|Crime|Thriller   \n",
       "49                                            Drama   \n",
       "\n",
       "                                 production_companies release_date  \\\n",
       "0   Universal Studios|Amblin Entertainment|Legenda...     6/9/2015   \n",
       "1   Village Roadshow Pictures|Kennedy Miller Produ...    5/13/2015   \n",
       "2   Summit Entertainment|Mandeville Films|Red Wago...    3/18/2015   \n",
       "3           Lucasfilm|Truenorth Productions|Bad Robot   12/15/2015   \n",
       "4   Universal Pictures|Original Film|Media Rights ...     4/1/2015   \n",
       "5   Regency Enterprises|Appian Way|CatchPlay|Anony...   12/25/2015   \n",
       "6             Paramount Pictures|Skydance Productions    6/23/2015   \n",
       "7   Twentieth Century Fox Film Corporation|Scott F...    9/30/2015   \n",
       "8       Universal Pictures|Illumination Entertainment    6/17/2015   \n",
       "9   Walt Disney Pictures|Pixar Animation Studios|W...     6/9/2015   \n",
       "10                       Columbia Pictures|Danjaq|B24   10/26/2015   \n",
       "11  Village Roadshow Pictures|Dune Entertainment|A...     2/4/2015   \n",
       "12  DNA Films|Universal Pictures International (UP...    1/21/2015   \n",
       "13        Columbia Pictures|Happy Madison Productions    7/16/2015   \n",
       "14  Marvel Studios|Prime Focus|Revolution Sun Studios    4/22/2015   \n",
       "15  Double Feature Films|The Weinstein Company|Fil...   12/25/2015   \n",
       "16  Twentieth Century Fox Film Corporation|M6 Film...     1/1/2015   \n",
       "17                                     Marvel Studios    7/14/2015   \n",
       "18  Walt Disney Pictures|Genre Films|Beagle Pug Fi...    3/12/2015   \n",
       "19  Studio Babelsberg|StudioCanal|Lionsgate|Walt D...   11/18/2015   \n",
       "20                  Walt Disney Pictures|Babieka|A113    5/19/2015   \n",
       "21            Escape Artists|Riche-Ludwig Productions    6/15/2015   \n",
       "22  New Line Cinema|Village Roadshow Pictures|Warn...    5/27/2015   \n",
       "23  Focus Features|Trigger Street Productions|Mich...    2/11/2015   \n",
       "24  Paramount Pictures|Plan B Entertainment|Regenc...   12/11/2015   \n",
       "25  Paramount Pictures|Skydance Productions|China ...    7/23/2015   \n",
       "26  Universal Pictures|Media Rights Capital|Fuzzy ...    6/25/2015   \n",
       "27  Twentieth Century Fox Film Corporation|Marv Fi...    1/24/2015   \n",
       "28  Participant Media|Open Road Films|Anonymous Co...    11/6/2015   \n",
       "29  Gotham Group|Temple Hill Entertainment|TSG Ent...     9/9/2015   \n",
       "30  Columbia Pictures|Media Rights Capital|Sony Pi...     3/4/2015   \n",
       "31  Universal Pictures|Gold Circle Films|Brownston...     5/7/2015   \n",
       "32  DreamWorks SKG|Amblin Entertainment|Studio Bab...   10/15/2015   \n",
       "33  Columbia Pictures|Original Film|Scholastic Ent...     8/5/2015   \n",
       "34  Element Pictures|No Trace Camping|A24|Duperele...   10/16/2015   \n",
       "35  Walt Disney Pictures|Pixar Animation Studios|B...   11/14/2015   \n",
       "36  Vertigo Entertainment|Energy Entertainment|Rat...    3/11/2015   \n",
       "37  Wildgaze Films|Irish Film Board|Item 7|Paralle...    11/4/2015   \n",
       "38  New Line Cinema|Universal Pictures|Legendary P...    8/13/2015   \n",
       "39  Summit Entertainment|Atmosphere Entertainment ...   10/21/2015   \n",
       "40  Davis Entertainment|Warner Bros.|Wigram Produc...    8/13/2015   \n",
       "41  Lakeshore Entertainment|Sidney Kimmel Entertai...    4/16/2015   \n",
       "42                Bazelevs Production|Versus Pictures    9/12/2015   \n",
       "43  Twentieth Century Fox Film Corporation|DreamWo...    3/18/2015   \n",
       "44                                  Fox 2000 Pictures     7/9/2015   \n",
       "45                  Killer Films|Film4|Number 9 Films   11/20/2015   \n",
       "46                         Waverly Films|Warner Bros.    9/24/2015   \n",
       "47  Universal Pictures|Working Title Films|Walden ...    9/10/2015   \n",
       "48  Studio Babelsberg|Alcon Entertainment|DMG Ente...    12/3/2015   \n",
       "49  Double Feature Films|PeaPie Films|3 Arts Enter...    10/2/2015   \n",
       "\n",
       "    vote_count  vote_average  release_year  \n",
       "0         5562           6.5          2015  \n",
       "1         6185           7.1          2015  \n",
       "2         2480           6.3          2015  \n",
       "3         5292           7.5          2015  \n",
       "4         2947           7.3          2015  \n",
       "5         3929           7.2          2015  \n",
       "6         2598           5.8          2015  \n",
       "7         4572           7.6          2015  \n",
       "8         2893           6.5          2015  \n",
       "9         3935           8.0          2015  \n",
       "10        3254           6.2          2015  \n",
       "11        1937           5.2          2015  \n",
       "12        2854           7.6          2015  \n",
       "13        1575           5.8          2015  \n",
       "14        4304           7.4          2015  \n",
       "15        2389           7.4          2015  \n",
       "16        1578           6.1          2015  \n",
       "17        3779           7.0          2015  \n",
       "18        1495           6.8          2015  \n",
       "19        2380           6.5          2015  \n",
       "20        1899           6.2          2015  \n",
       "21        1386           7.3          2015  \n",
       "22        2060           6.1          2015  \n",
       "23        1865           5.3          2015  \n",
       "24        1545           7.3          2015  \n",
       "25        2349           7.1          2015  \n",
       "26        1666           6.3          2015  \n",
       "27        3833           7.6          2015  \n",
       "28        1559           7.8          2015  \n",
       "29        1849           6.4          2015  \n",
       "30        1990           6.6          2015  \n",
       "31        1264           6.8          2015  \n",
       "32        1638           7.1          2015  \n",
       "33         600           6.2          2015  \n",
       "34        1520           8.0          2015  \n",
       "35        1087           6.6          2015  \n",
       "36         814           6.3          2015  \n",
       "37         754           7.3          2015  \n",
       "38         918           7.7          2015  \n",
       "39         879           5.6          2015  \n",
       "40        1548           7.0          2015  \n",
       "41        1221           7.3          2015  \n",
       "42         396           5.9          2015  \n",
       "43        1060           6.9          2015  \n",
       "44        1252           6.2          2015  \n",
       "45         562           7.1          2015  \n",
       "46        1255           7.1          2015  \n",
       "47        1172           6.7          2015  \n",
       "48         505           5.5          2015  \n",
       "49         631           6.3          2015  "
      ]
     },
     "execution_count": 330,
     "metadata": {},
     "output_type": "execute_result"
    }
   ],
   "source": [
    "data = pd.read_csv('./data.csv')\n",
    "data.head(50)"
   ]
  },
  {
   "cell_type": "code",
   "execution_count": 231,
   "metadata": {},
   "outputs": [
    {
     "data": {
      "text/plain": [
       "1890"
      ]
     },
     "execution_count": 231,
     "metadata": {},
     "output_type": "execute_result"
    }
   ],
   "source": [
    "len(data)"
   ]
  },
  {
   "cell_type": "markdown",
   "metadata": {},
   "source": [
    "# Предобработка датасета"
   ]
  },
  {
   "cell_type": "code",
   "execution_count": 232,
   "metadata": {},
   "outputs": [],
   "source": [
    "answer_ls = [] # создадим список с ответами. сюда будем добавлять ответы по мере прохождения теста\n",
    "# сюда можем вписать создание новых колонок в датасете"
   ]
  },
  {
   "cell_type": "markdown",
   "metadata": {},
   "source": [
    "# 1. У какого фильма из списка самый большой бюджет?\n",
    "Варианты ответов:\n",
    "1. The Dark Knight Rises (tt1345836)\n",
    "2. Spider-Man 3 (tt0413300)\n",
    "3. Avengers: Age of Ultron (tt2395427)\n",
    "4. The Warrior's Way\t(tt1032751)\n",
    "5. Pirates of the Caribbean: On Stranger Tides (tt1298650)"
   ]
  },
  {
   "cell_type": "code",
   "execution_count": 233,
   "metadata": {},
   "outputs": [
    {
     "data": {
      "text/plain": [
       "491    The Warrior's Way\n",
       "Name: original_title, dtype: object"
      ]
     },
     "execution_count": 233,
     "metadata": {},
     "output_type": "execute_result"
    }
   ],
   "source": [
    "data[data.budget == data.budget.max()].original_title"
   ]
  },
  {
   "cell_type": "code",
   "execution_count": 234,
   "metadata": {},
   "outputs": [],
   "source": [
    "answer_ls.append(4)"
   ]
  },
  {
   "cell_type": "markdown",
   "metadata": {},
   "source": [
    "# 2. Какой из фильмов самый длительный (в минутах)\n",
    "1. The Lord of the Rings: The Return of the King\t(tt0167260)\n",
    "2. Gods and Generals\t(tt0279111)\n",
    "3. King Kong\t(tt0360717)\n",
    "4. Pearl Harbor\t(tt0213149)\n",
    "5. Alexander\t(tt0346491)"
   ]
  },
  {
   "cell_type": "code",
   "execution_count": 235,
   "metadata": {},
   "outputs": [
    {
     "data": {
      "text/plain": [
       "1158    Gods and Generals\n",
       "Name: original_title, dtype: object"
      ]
     },
     "execution_count": 235,
     "metadata": {},
     "output_type": "execute_result"
    }
   ],
   "source": [
    "data[data.runtime == data.runtime.max()].original_title"
   ]
  },
  {
   "cell_type": "code",
   "execution_count": 236,
   "metadata": {},
   "outputs": [],
   "source": [
    "answer_ls.append(2)"
   ]
  },
  {
   "cell_type": "markdown",
   "metadata": {},
   "source": [
    "# 3. Какой из фильмов самый короткий (в минутах)\n",
    "Варианты ответов:\n",
    "\n",
    "1. Home on the Range\ttt0299172\n",
    "2. The Jungle Book 2\ttt0283426\n",
    "3. Winnie the Pooh\ttt1449283\n",
    "4. Corpse Bride\ttt0121164\n",
    "5. Hoodwinked!\ttt0443536"
   ]
  },
  {
   "cell_type": "code",
   "execution_count": 237,
   "metadata": {},
   "outputs": [
    {
     "data": {
      "text/plain": [
       "769    Winnie the Pooh\n",
       "Name: original_title, dtype: object"
      ]
     },
     "execution_count": 237,
     "metadata": {},
     "output_type": "execute_result"
    }
   ],
   "source": [
    "data[data.runtime == data.runtime.min()].original_title"
   ]
  },
  {
   "cell_type": "code",
   "execution_count": 238,
   "metadata": {},
   "outputs": [],
   "source": [
    "answer_ls.append(3)"
   ]
  },
  {
   "cell_type": "markdown",
   "metadata": {},
   "source": [
    "# 4. Средняя длительность фильма?\n",
    "\n",
    "Варианты ответов:\n",
    "1. 115\n",
    "2. 110\n",
    "3. 105\n",
    "4. 120\n",
    "5. 100\n"
   ]
  },
  {
   "cell_type": "code",
   "execution_count": 239,
   "metadata": {},
   "outputs": [
    {
     "data": {
      "text/plain": [
       "109.65343915343915"
      ]
     },
     "execution_count": 239,
     "metadata": {},
     "output_type": "execute_result"
    }
   ],
   "source": [
    "data.runtime.mean()"
   ]
  },
  {
   "cell_type": "code",
   "execution_count": 240,
   "metadata": {},
   "outputs": [],
   "source": [
    "answer_ls.append(2)"
   ]
  },
  {
   "cell_type": "markdown",
   "metadata": {},
   "source": [
    "# 5. Средняя длительность фильма по медиане?\n",
    "Варианты ответов:\n",
    "1. 106\n",
    "2. 112\n",
    "3. 101\n",
    "4. 120\n",
    "5. 115\n",
    "\n",
    "\n"
   ]
  },
  {
   "cell_type": "code",
   "execution_count": 241,
   "metadata": {},
   "outputs": [
    {
     "data": {
      "text/plain": [
       "106.5"
      ]
     },
     "execution_count": 241,
     "metadata": {},
     "output_type": "execute_result"
    }
   ],
   "source": [
    "data.runtime.median()"
   ]
  },
  {
   "cell_type": "code",
   "execution_count": 242,
   "metadata": {},
   "outputs": [],
   "source": [
    "answer_ls.append(1)"
   ]
  },
  {
   "cell_type": "markdown",
   "metadata": {},
   "source": [
    "# 6. Какой самый прибыльный фильм?\n",
    "Варианты ответов:\n",
    "1. The Avengers\ttt0848228\n",
    "2. Minions\ttt2293640\n",
    "3. Star Wars: The Force Awakens\ttt2488496\n",
    "4. Furious 7\ttt2820852\n",
    "5. Avatar\ttt0499549"
   ]
  },
  {
   "cell_type": "code",
   "execution_count": 243,
   "metadata": {},
   "outputs": [
    {
     "data": {
      "text/plain": [
       "239    Avatar\n",
       "Name: original_title, dtype: object"
      ]
     },
     "execution_count": 243,
     "metadata": {},
     "output_type": "execute_result"
    }
   ],
   "source": [
    "data = pd.read_csv('./data.csv')\n",
    "\n",
    "data['profit'] = data.revenue - data.budget\n",
    "data[data.profit == data.profit.max()].original_title"
   ]
  },
  {
   "cell_type": "code",
   "execution_count": 244,
   "metadata": {},
   "outputs": [],
   "source": [
    "answer_ls.append(5)"
   ]
  },
  {
   "cell_type": "markdown",
   "metadata": {},
   "source": [
    "# 7. Какой фильм самый убыточный?\n",
    "Варианты ответов:\n",
    "1. Supernova tt0134983\n",
    "2. The Warrior's Way tt1032751\n",
    "3. Flushed Away\ttt0424095\n",
    "4. The Adventures of Pluto Nash\ttt0180052\n",
    "5. The Lone Ranger\ttt1210819"
   ]
  },
  {
   "cell_type": "code",
   "execution_count": 245,
   "metadata": {},
   "outputs": [
    {
     "data": {
      "text/plain": [
       "491    The Warrior's Way\n",
       "Name: original_title, dtype: object"
      ]
     },
     "execution_count": 245,
     "metadata": {},
     "output_type": "execute_result"
    }
   ],
   "source": [
    "data = pd.read_csv('./data.csv')\n",
    "\n",
    "data['profit'] = data.revenue - data.budget\n",
    "data[data.profit == data.profit.min()].original_title"
   ]
  },
  {
   "cell_type": "code",
   "execution_count": 246,
   "metadata": {},
   "outputs": [],
   "source": [
    "answer_ls.append(2)"
   ]
  },
  {
   "cell_type": "markdown",
   "metadata": {},
   "source": [
    "# 8. Сколько всего фильмов в прибыли?\n",
    "Варианты ответов:\n",
    "1. 1478\n",
    "2. 1520\n",
    "3. 1241\n",
    "4. 1135\n",
    "5. 1398\n"
   ]
  },
  {
   "cell_type": "code",
   "execution_count": 247,
   "metadata": {},
   "outputs": [
    {
     "data": {
      "text/plain": [
       "1478"
      ]
     },
     "execution_count": 247,
     "metadata": {},
     "output_type": "execute_result"
    }
   ],
   "source": [
    "data = pd.read_csv('./data.csv')\n",
    "\n",
    "data['profit'] = data.revenue - data.budget\n",
    "len(data[data.profit > 0])"
   ]
  },
  {
   "cell_type": "code",
   "execution_count": 248,
   "metadata": {},
   "outputs": [],
   "source": [
    "answer_ls.append(1)"
   ]
  },
  {
   "cell_type": "markdown",
   "metadata": {},
   "source": [
    "# 9. Самый прибыльный фильм в 2008 году?\n",
    "Варианты ответов:\n",
    "1. Madagascar: Escape 2 Africa\ttt0479952\n",
    "2. Iron Man\ttt0371746\n",
    "3. Kung Fu Panda\ttt0441773\n",
    "4. The Dark Knight\ttt0468569\n",
    "5. Mamma Mia!\ttt0795421"
   ]
  },
  {
   "cell_type": "code",
   "execution_count": 249,
   "metadata": {},
   "outputs": [
    {
     "data": {
      "text/plain": [
       "600    The Dark Knight\n",
       "Name: original_title, dtype: object"
      ]
     },
     "execution_count": 249,
     "metadata": {},
     "output_type": "execute_result"
    }
   ],
   "source": [
    "data = pd.read_csv('./data.csv')\n",
    "\n",
    "data = data[data.release_year == 2008]\n",
    "\n",
    "data['profit'] = data.revenue - data.budget\n",
    "data[data.profit == data.profit.max()].original_title"
   ]
  },
  {
   "cell_type": "code",
   "execution_count": 250,
   "metadata": {},
   "outputs": [],
   "source": [
    "answer_ls.append(4)"
   ]
  },
  {
   "cell_type": "markdown",
   "metadata": {},
   "source": [
    "# 10. Самый убыточный фильм за период с 2012 по 2014 (включительно)?\n",
    "Варианты ответов:\n",
    "1. Winter's Tale\ttt1837709\n",
    "2. Stolen\ttt1656186\n",
    "3. Broken City\ttt1235522\n",
    "4. Upside Down\ttt1374992\n",
    "5. The Lone Ranger\ttt1210819\n"
   ]
  },
  {
   "cell_type": "code",
   "execution_count": 251,
   "metadata": {},
   "outputs": [
    {
     "data": {
      "text/plain": [
       "1246    The Lone Ranger\n",
       "Name: original_title, dtype: object"
      ]
     },
     "execution_count": 251,
     "metadata": {},
     "output_type": "execute_result"
    }
   ],
   "source": [
    "data = pd.read_csv('./data.csv')\n",
    "\n",
    "data = data[(data.release_year >= 2012) & (data.release_year <= 2014)]\n",
    "data['profit'] = data.revenue - data.budget\n",
    "data[data.profit == data.profit.min()].original_title"
   ]
  },
  {
   "cell_type": "code",
   "execution_count": 252,
   "metadata": {},
   "outputs": [],
   "source": [
    "answer_ls.append(5)"
   ]
  },
  {
   "cell_type": "markdown",
   "metadata": {},
   "source": [
    "# 11. Какого жанра фильмов больше всего?\n",
    "Варианты ответов:\n",
    "1. Action\n",
    "2. Adventure\n",
    "3. Drama\n",
    "4. Comedy\n",
    "5. Thriller"
   ]
  },
  {
   "cell_type": "code",
   "execution_count": 253,
   "metadata": {},
   "outputs": [
    {
     "name": "stdout",
     "output_type": "stream",
     "text": [
      "[('Drama', 782)]\n"
     ]
    }
   ],
   "source": [
    "data = pd.read_csv('./data.csv')\n",
    "\n",
    "import collections\n",
    "c = collections.Counter()\n",
    "\n",
    "for gg in data.genres:\n",
    "    for g in gg.split('|'):\n",
    "        c[g] += 1\n",
    "print(c.most_common(1))"
   ]
  },
  {
   "cell_type": "code",
   "execution_count": 254,
   "metadata": {},
   "outputs": [],
   "source": [
    "answer_ls.append(3)"
   ]
  },
  {
   "cell_type": "markdown",
   "metadata": {},
   "source": [
    "# 12. Какого жанра среди прибыльных фильмов больше всего?\n",
    "Варианты ответов:\n",
    "1. Drama\n",
    "2. Comedy\n",
    "3. Action\n",
    "4. Thriller\n",
    "5. Adventure"
   ]
  },
  {
   "cell_type": "code",
   "execution_count": 255,
   "metadata": {},
   "outputs": [
    {
     "name": "stdout",
     "output_type": "stream",
     "text": [
      "[('Drama', 560)]\n"
     ]
    }
   ],
   "source": [
    "data = pd.read_csv('./data.csv')\n",
    "\n",
    "data['profit'] = data.revenue - data.budget\n",
    "data = data[data.profit > 0]\n",
    "\n",
    "import collections\n",
    "c = collections.Counter()\n",
    "\n",
    "\n",
    "for gg in data.genres:\n",
    "    for g in gg.split('|'):\n",
    "        c[g] += 1\n",
    "print(c.most_common(1))"
   ]
  },
  {
   "cell_type": "code",
   "execution_count": 256,
   "metadata": {},
   "outputs": [],
   "source": [
    "answer_ls.append(1)"
   ]
  },
  {
   "cell_type": "markdown",
   "metadata": {},
   "source": [
    "# 13. Кто из режиссеров снял больше всего фильмов?\n",
    "Варианты ответов:\n",
    "1. Steven Spielberg\n",
    "2. Ridley Scott \n",
    "3. Steven Soderbergh\n",
    "4. Christopher Nolan\n",
    "5. Clint Eastwood"
   ]
  },
  {
   "cell_type": "code",
   "execution_count": 357,
   "metadata": {},
   "outputs": [
    {
     "name": "stdout",
     "output_type": "stream",
     "text": [
      "[('Steven Soderbergh', 13)]\n"
     ]
    }
   ],
   "source": [
    "data = pd.read_csv('./data.csv')\n",
    "\n",
    "\n",
    "import collections\n",
    "c = collections.Counter()\n",
    "\n",
    "for dd in data.director:\n",
    "    for d in dd.split('|'):\n",
    "        c[d] += 1\n",
    "print(c.most_common(1))\n"
   ]
  },
  {
   "cell_type": "code",
   "execution_count": 258,
   "metadata": {},
   "outputs": [],
   "source": [
    "answer_ls.append(3)"
   ]
  },
  {
   "cell_type": "markdown",
   "metadata": {},
   "source": [
    "# 14. Кто из режиссеров снял больше всего Прибыльных фильмов?\n",
    "Варианты ответов:\n",
    "1. Steven Soderbergh\n",
    "2. Clint Eastwood\n",
    "3. Steven Spielberg\n",
    "4. Ridley Scott\n",
    "5. Christopher Nolan"
   ]
  },
  {
   "cell_type": "code",
   "execution_count": 358,
   "metadata": {},
   "outputs": [
    {
     "name": "stdout",
     "output_type": "stream",
     "text": [
      "[('Ridley Scott', 12)]\n"
     ]
    }
   ],
   "source": [
    "data = pd.read_csv('./data.csv')\n",
    "\n",
    "data['profit'] = data.revenue - data.budget\n",
    "data = data[data.profit > 0]\n",
    "\n",
    "import collections\n",
    "c = collections.Counter()\n",
    "\n",
    "for dd in data.director:\n",
    "    for d in dd.split('|'):\n",
    "        c[d] += 1\n",
    "print(c.most_common(1))\n"
   ]
  },
  {
   "cell_type": "code",
   "execution_count": 335,
   "metadata": {},
   "outputs": [],
   "source": [
    "answer_ls.append(4)"
   ]
  },
  {
   "cell_type": "markdown",
   "metadata": {},
   "source": [
    "# 15. Кто из режиссеров принес больше всего прибыли?\n",
    "Варианты ответов:\n",
    "1. Steven Spielberg\n",
    "2. Christopher Nolan\n",
    "3. David Yates\n",
    "4. James Cameron\n",
    "5. Peter Jackson\n"
   ]
  },
  {
   "cell_type": "code",
   "execution_count": 340,
   "metadata": {},
   "outputs": [
    {
     "name": "stdout",
     "output_type": "stream",
     "text": [
      "[('Peter Jackson', 5202593685)]\n"
     ]
    }
   ],
   "source": [
    "data = pd.read_csv('./data.csv')\n",
    "\n",
    "data['profit'] = data.revenue - data.budget\n",
    "\n",
    "import collections\n",
    "c = collections.Counter()\n",
    "\n",
    "for x in data.imdb_id:\n",
    "    profit = data[data.imdb_id == x].profit.iloc[0]\n",
    "    dd = data[data.imdb_id == x].director.iloc[0]\n",
    "    for d in dd.split('|'):\n",
    "         c[d] += profit\n",
    "print(c.most_common(1))"
   ]
  },
  {
   "cell_type": "code",
   "execution_count": 262,
   "metadata": {},
   "outputs": [],
   "source": [
    "\n",
    "answer_ls.append(5)"
   ]
  },
  {
   "cell_type": "markdown",
   "metadata": {},
   "source": [
    "# 16. Какой актер принес больше всего прибыли?\n",
    "Варианты ответов:\n",
    "1. Emma Watson\n",
    "2. Johnny Depp\n",
    "3. Michelle Rodriguez\n",
    "4. Orlando Bloom\n",
    "5. Rupert Grint"
   ]
  },
  {
   "cell_type": "code",
   "execution_count": 263,
   "metadata": {},
   "outputs": [
    {
     "name": "stdout",
     "output_type": "stream",
     "text": [
      "[('Emma Watson', 6666245597)]\n"
     ]
    }
   ],
   "source": [
    "data = pd.read_csv('./data.csv')\n",
    "\n",
    "data['profit'] = data.revenue - data.budget\n",
    "\n",
    "import collections\n",
    "c = collections.Counter()\n",
    "\n",
    "for x in data.imdb_id:\n",
    "    profit = data[data.imdb_id == x].profit.iloc[0]\n",
    "    cast = data[data.imdb_id == x].cast.iloc[0]\n",
    "    for a in cast.split('|'):\n",
    "         c[a] += profit\n",
    "print(c.most_common(1))"
   ]
  },
  {
   "cell_type": "code",
   "execution_count": 264,
   "metadata": {},
   "outputs": [],
   "source": [
    "answer_ls.append(1)"
   ]
  },
  {
   "cell_type": "markdown",
   "metadata": {},
   "source": [
    "# 17. Какой актер принес меньше всего прибыли в 2012 году?\n",
    "Варианты ответов:\n",
    "1. Nicolas Cage\n",
    "2. Danny Huston\n",
    "3. Kirsten Dunst\n",
    "4. Jim Sturgess\n",
    "5. Sami Gayle"
   ]
  },
  {
   "cell_type": "code",
   "execution_count": 265,
   "metadata": {},
   "outputs": [
    {
     "name": "stdout",
     "output_type": "stream",
     "text": [
      "[('Kirsten Dunst', -68109207)]\n"
     ]
    }
   ],
   "source": [
    "data = pd.read_csv('./data.csv')\n",
    "\n",
    "data = data[data.release_year == 2012]\n",
    "\n",
    "data['profit'] = data.revenue - data.budget\n",
    "\n",
    "import collections\n",
    "c = collections.Counter()\n",
    "\n",
    "for x in data.imdb_id:\n",
    "    profit = data[data.imdb_id == x].profit.iloc[0]\n",
    "    cast = data[data.imdb_id == x].cast.iloc[0]\n",
    "    for a in cast.split('|'):\n",
    "         c[a] += profit\n",
    "print(c.most_common()[-1:])"
   ]
  },
  {
   "cell_type": "code",
   "execution_count": 266,
   "metadata": {},
   "outputs": [],
   "source": [
    "answer_ls.append(3)"
   ]
  },
  {
   "cell_type": "markdown",
   "metadata": {},
   "source": [
    "# 18. Какой актер снялся в большем количестве высокобюджетных фильмов? (в фильмах где бюджет выше среднего по данной выборке)\n",
    "Варианты ответов:\n",
    "1. Tom Cruise\n",
    "2. Mark Wahlberg \n",
    "3. Matt Damon\n",
    "4. Angelina Jolie\n",
    "5. Adam Sandler"
   ]
  },
  {
   "cell_type": "code",
   "execution_count": 267,
   "metadata": {},
   "outputs": [
    {
     "name": "stdout",
     "output_type": "stream",
     "text": [
      "[('Matt Damon', 18)]\n"
     ]
    }
   ],
   "source": [
    "data = pd.read_csv('./data.csv')\n",
    "\n",
    "data = data[data.budget >  data.budget.mean()]\n",
    "\n",
    "import collections\n",
    "c = collections.Counter()\n",
    "\n",
    "for cc in data.cast:\n",
    "    for a in cc.split('|'):\n",
    "        c[a] += 1\n",
    "print(c.most_common(1))"
   ]
  },
  {
   "cell_type": "code",
   "execution_count": 268,
   "metadata": {},
   "outputs": [],
   "source": [
    "answer_ls.append(3)"
   ]
  },
  {
   "cell_type": "markdown",
   "metadata": {},
   "source": [
    "# 19. В фильмах какого жанра больше всего снимался Nicolas Cage?  \n",
    "Варианты ответа:\n",
    "1. Drama\n",
    "2. Action\n",
    "3. Thriller\n",
    "4. Adventure\n",
    "5. Crime"
   ]
  },
  {
   "cell_type": "code",
   "execution_count": 269,
   "metadata": {},
   "outputs": [
    {
     "name": "stdout",
     "output_type": "stream",
     "text": [
      "[('Action', 17)]\n"
     ]
    }
   ],
   "source": [
    "data = pd.read_csv('./data.csv')\n",
    "\n",
    "data = data[data.cast.str.contains(\"Nicolas Cage\", na = False)]\n",
    "\n",
    "import collections\n",
    "c = collections.Counter()\n",
    "\n",
    "\n",
    "for gg in data.genres:\n",
    "    for g in gg.split('|'):\n",
    "        c[g] += 1\n",
    "print(c.most_common(1))"
   ]
  },
  {
   "cell_type": "code",
   "execution_count": 270,
   "metadata": {},
   "outputs": [],
   "source": [
    "answer_ls.append(2)"
   ]
  },
  {
   "cell_type": "markdown",
   "metadata": {},
   "source": [
    "# 20. Какая студия сняла больше всего фильмов?\n",
    "Варианты ответа:\n",
    "1. Universal Pictures (Universal)\n",
    "2. Paramount Pictures\n",
    "3. Columbia Pictures\n",
    "4. Warner Bros\n",
    "5. Twentieth Century Fox Film Corporation"
   ]
  },
  {
   "cell_type": "code",
   "execution_count": 271,
   "metadata": {},
   "outputs": [
    {
     "name": "stdout",
     "output_type": "stream",
     "text": [
      "[('Universal Pictures', 173)]\n"
     ]
    }
   ],
   "source": [
    "data = pd.read_csv('./data.csv')\n",
    "\n",
    "import collections\n",
    "c = collections.Counter()\n",
    "\n",
    "for p in data.production_companies:\n",
    "    for s in p.split('|'):\n",
    "        c[s] += 1\n",
    "print(c.most_common(1))"
   ]
  },
  {
   "cell_type": "code",
   "execution_count": 272,
   "metadata": {},
   "outputs": [],
   "source": [
    "answer_ls.append(1)"
   ]
  },
  {
   "cell_type": "markdown",
   "metadata": {},
   "source": [
    "# 21. Какая студия сняла больше всего фильмов в 2015 году?\n",
    "Варианты ответа:\n",
    "1. Universal Pictures\n",
    "2. Paramount Pictures\n",
    "3. Columbia Pictures\n",
    "4. Warner Bros\n",
    "5. Twentieth Century Fox Film Corporation"
   ]
  },
  {
   "cell_type": "code",
   "execution_count": 273,
   "metadata": {},
   "outputs": [
    {
     "name": "stdout",
     "output_type": "stream",
     "text": [
      "[('Warner Bros.', 12)]\n"
     ]
    }
   ],
   "source": [
    "data = pd.read_csv('./data.csv')\n",
    "\n",
    "data = data[data.release_year == 2015]\n",
    "\n",
    "import collections\n",
    "c = collections.Counter()\n",
    "\n",
    "for pc in data.production_companies:\n",
    "    for s in pc.split('|'):\n",
    "        c[s] += 1\n",
    "print(c.most_common(1))"
   ]
  },
  {
   "cell_type": "code",
   "execution_count": 274,
   "metadata": {},
   "outputs": [],
   "source": [
    "answer_ls.append(4)"
   ]
  },
  {
   "cell_type": "markdown",
   "metadata": {},
   "source": [
    "# 22. Какая студия заработала больше всего денег в жанре комедий за все время?\n",
    "Варианты ответа:\n",
    "1. Warner Bros\n",
    "2. Universal Pictures (Universal)\n",
    "3. Columbia Pictures\n",
    "4. Paramount Pictures\n",
    "5. Walt Disney"
   ]
  },
  {
   "cell_type": "code",
   "execution_count": 275,
   "metadata": {},
   "outputs": [
    {
     "name": "stdout",
     "output_type": "stream",
     "text": [
      "[('Universal Pictures', 8961545581)]\n"
     ]
    }
   ],
   "source": [
    "data = pd.read_csv('./data.csv')\n",
    "\n",
    "data = data[data.genres.str.contains(\"Comedy\", na = False, regex=False)]\n",
    "\n",
    "data['profit'] = data.revenue - data.budget\n",
    "\n",
    "import collections\n",
    "c = collections.Counter()\n",
    "\n",
    "for x in data.imdb_id:\n",
    "    profit = data[data.imdb_id == x].profit.iloc[0]\n",
    "    pc = data[data.imdb_id == x].production_companies.iloc[0]\n",
    "    for s in pc.split('|'):\n",
    "         c[s] += profit\n",
    "print(c.most_common(1))"
   ]
  },
  {
   "cell_type": "code",
   "execution_count": 276,
   "metadata": {},
   "outputs": [],
   "source": [
    "answer_ls.append(2)"
   ]
  },
  {
   "cell_type": "markdown",
   "metadata": {},
   "source": [
    "# 23. Какая студия заработала больше всего денег в 2012 году?\n",
    "Варианты ответа:\n",
    "1. Universal Pictures (Universal)\n",
    "2. Warner Bros\n",
    "3. Columbia Pictures\n",
    "4. Paramount Pictures\n",
    "5. Lucasfilm"
   ]
  },
  {
   "cell_type": "code",
   "execution_count": 277,
   "metadata": {},
   "outputs": [
    {
     "name": "stdout",
     "output_type": "stream",
     "text": [
      "[('Columbia Pictures', 2501406608)]\n"
     ]
    }
   ],
   "source": [
    "data = pd.read_csv('./data.csv')\n",
    "\n",
    "data = data[data.release_year == 2012]\n",
    "\n",
    "data['profit'] = data.revenue - data.budget\n",
    "\n",
    "import collections\n",
    "c = collections.Counter()\n",
    "\n",
    "for x in data.imdb_id:\n",
    "    profit = data[data.imdb_id == x].profit.iloc[0]\n",
    "    pc = data[data.imdb_id == x].production_companies.iloc[0]\n",
    "    for s in pc.split('|'):\n",
    "         c[s] += profit\n",
    "print(c.most_common(1))"
   ]
  },
  {
   "cell_type": "code",
   "execution_count": 278,
   "metadata": {},
   "outputs": [],
   "source": [
    "answer_ls.append(3)"
   ]
  },
  {
   "cell_type": "markdown",
   "metadata": {},
   "source": [
    "# 24. Самый убыточный фильм от Paramount Pictures\n",
    "Варианты ответа:\n",
    "\n",
    "1. K-19: The Widowmaker tt0267626\n",
    "2. Next tt0435705\n",
    "3. Twisted tt0315297\n",
    "4. The Love Guru tt0811138\n",
    "5. The Fighter tt0964517"
   ]
  },
  {
   "cell_type": "code",
   "execution_count": 279,
   "metadata": {},
   "outputs": [
    {
     "data": {
      "text/plain": [
       "926    K-19: The Widowmaker\n",
       "Name: original_title, dtype: object"
      ]
     },
     "execution_count": 279,
     "metadata": {},
     "output_type": "execute_result"
    }
   ],
   "source": [
    "data = pd.read_csv('./data.csv')\n",
    "\n",
    "data = data[data.production_companies.str.contains(\"Paramount Pictures\", na = False, regex=False)]\n",
    "\n",
    "data['profit'] = data.revenue - data.budget\n",
    "\n",
    "data[data.profit == data.profit.min()].original_title\n"
   ]
  },
  {
   "cell_type": "code",
   "execution_count": 280,
   "metadata": {},
   "outputs": [],
   "source": [
    "answer_ls.append(1)"
   ]
  },
  {
   "cell_type": "markdown",
   "metadata": {},
   "source": [
    "# 25. Какой Самый прибыльный год (заработали больше всего)?\n",
    "Варианты ответа:\n",
    "1. 2014\n",
    "2. 2008\n",
    "3. 2012\n",
    "4. 2002\n",
    "5. 2015"
   ]
  },
  {
   "cell_type": "code",
   "execution_count": 281,
   "metadata": {},
   "outputs": [
    {
     "data": {
      "text/plain": [
       "release_year\n",
       "2015    18668572378\n",
       "Name: profit, dtype: int64"
      ]
     },
     "execution_count": 281,
     "metadata": {},
     "output_type": "execute_result"
    }
   ],
   "source": [
    "data = pd.read_csv('./data.csv')\n",
    "\n",
    "data['profit'] = data.revenue - data.budget\n",
    "\n",
    "grouped_df = data.groupby(['release_year'])['profit'].sum().sort_values(ascending=False).head(1)\n",
    "grouped_df"
   ]
  },
  {
   "cell_type": "code",
   "execution_count": 282,
   "metadata": {},
   "outputs": [],
   "source": [
    "answer_ls.append(5)"
   ]
  },
  {
   "cell_type": "markdown",
   "metadata": {},
   "source": [
    "# 26. Какой Самый прибыльный год для студии Warner Bros?\n",
    "Варианты ответа:\n",
    "1. 2014\n",
    "2. 2008\n",
    "3. 2012\n",
    "4. 2010\n",
    "5. 2015"
   ]
  },
  {
   "cell_type": "code",
   "execution_count": 283,
   "metadata": {},
   "outputs": [
    {
     "data": {
      "text/plain": [
       "release_year\n",
       "2014    2295464519\n",
       "Name: profit, dtype: int64"
      ]
     },
     "execution_count": 283,
     "metadata": {},
     "output_type": "execute_result"
    }
   ],
   "source": [
    "data = pd.read_csv('./data.csv')\n",
    "\n",
    "data = data[data.production_companies.str.contains(\"Warner Bros\", na = False, regex=False)]\n",
    "\n",
    "data['profit'] = data.revenue - data.budget\n",
    "\n",
    "grouped_df = data.groupby(['release_year'])['profit'].sum().sort_values(ascending=False).head(1)\n",
    "grouped_df"
   ]
  },
  {
   "cell_type": "code",
   "execution_count": 284,
   "metadata": {},
   "outputs": [],
   "source": [
    "answer_ls.append(1)"
   ]
  },
  {
   "cell_type": "markdown",
   "metadata": {},
   "source": [
    "# 27. В каком месяце за все годы суммарно вышло больше всего фильмов?\n",
    "Варианты ответа:\n",
    "1. Январь\n",
    "2. Июнь\n",
    "3. Декабрь\n",
    "4. Сентябрь\n",
    "5. Май"
   ]
  },
  {
   "cell_type": "code",
   "execution_count": 285,
   "metadata": {},
   "outputs": [
    {
     "data": {
      "text/plain": [
       "month\n",
       "9    227\n",
       "Name: original_title, dtype: int64"
      ]
     },
     "execution_count": 285,
     "metadata": {},
     "output_type": "execute_result"
    }
   ],
   "source": [
    "data = pd.read_csv('./data.csv')\n",
    "\n",
    "data['month'] = data.release_date.apply(lambda d: d.split('/')[0])\n",
    "\n",
    "grouped_df = data.groupby(['month'])['original_title'].count().sort_values(ascending=False).head(1)\n",
    "grouped_df"
   ]
  },
  {
   "cell_type": "code",
   "execution_count": 286,
   "metadata": {},
   "outputs": [],
   "source": [
    "answer_ls.append(4)"
   ]
  },
  {
   "cell_type": "markdown",
   "metadata": {},
   "source": [
    "# 28. Сколько суммарно вышло фильмов летом? (за июнь, июль, август)\n",
    "Варианты ответа:\n",
    "1. 345\n",
    "2. 450\n",
    "3. 478\n",
    "4. 523\n",
    "5. 381"
   ]
  },
  {
   "cell_type": "code",
   "execution_count": 287,
   "metadata": {},
   "outputs": [
    {
     "data": {
      "text/plain": [
       "450"
      ]
     },
     "execution_count": 287,
     "metadata": {},
     "output_type": "execute_result"
    }
   ],
   "source": [
    "data = pd.read_csv('./data.csv')\n",
    "\n",
    "data['month'] = data.release_date.apply(lambda d: int(d.split('/')[0]))\n",
    "\n",
    "data = data.query('month in [6, 7, 8]')\n",
    "\n",
    "data.count()[0]"
   ]
  },
  {
   "cell_type": "code",
   "execution_count": 288,
   "metadata": {},
   "outputs": [],
   "source": [
    "answer_ls.append(2)"
   ]
  },
  {
   "cell_type": "markdown",
   "metadata": {},
   "source": [
    "# 29. Какой режисер выпускает (суммарно по годам) больше всего фильмов зимой?\n",
    "Варианты ответов:\n",
    "1. Steven Soderbergh\n",
    "2. Christopher Nolan\n",
    "3. Clint Eastwood\n",
    "4. Ridley Scott\n",
    "5. Peter Jackson"
   ]
  },
  {
   "cell_type": "code",
   "execution_count": 360,
   "metadata": {
    "scrolled": true
   },
   "outputs": [
    {
     "name": "stdout",
     "output_type": "stream",
     "text": [
      "[('Peter Jackson', 7)]\n"
     ]
    }
   ],
   "source": [
    "data = pd.read_csv('./data.csv')\n",
    "\n",
    "data['month'] = data.release_date.apply(lambda d: int(d.split('/')[0]))\n",
    "\n",
    "data = data.query('month in [12, 1, 2]')\n",
    "\n",
    "import collections\n",
    "c = collections.Counter()\n",
    "\n",
    "for dd in data.director:\n",
    "    for d in dd.split('|'):\n",
    "         c[d] += 1\n",
    "print(c.most_common(1))\n"
   ]
  },
  {
   "cell_type": "code",
   "execution_count": 290,
   "metadata": {},
   "outputs": [],
   "source": [
    "answer_ls.append(5)"
   ]
  },
  {
   "cell_type": "markdown",
   "metadata": {},
   "source": [
    "# 30. Какой месяц чаще всего по годам самый прибыльный?\n",
    "Варианты ответа:\n",
    "1. Январь\n",
    "2. Июнь\n",
    "3. Декабрь\n",
    "4. Сентябрь\n",
    "5. Май"
   ]
  },
  {
   "cell_type": "code",
   "execution_count": 543,
   "metadata": {},
   "outputs": [
    {
     "data": {
      "text/plain": [
       "6     7\n",
       "12    4\n",
       "5     4\n",
       "7     1\n",
       "Name: month_x, dtype: int64"
      ]
     },
     "execution_count": 543,
     "metadata": {},
     "output_type": "execute_result"
    }
   ],
   "source": [
    "data = pd.read_csv('./data.csv')\n",
    "\n",
    "data['month'] = data.release_date.apply(lambda d: int(d.split('/')[0]))\n",
    "\n",
    "data['profit'] = data.revenue - data.budget\n",
    "\n",
    "pivot = data.pivot_table(values=['profit'],\n",
    "index=['release_year', 'month'],            \n",
    "aggfunc='sum',\n",
    "fill_value=0).sort_values(('profit'), ascending=False)\n",
    "\n",
    "data = pd.DataFrame(pivot.to_records())\n",
    "\n",
    "max_month = data.groupby('release_year').max()\n",
    "data.merge(max_month, on = ['release_year', 'profit'], how='inner').month_x.value_counts()"
   ]
  },
  {
   "cell_type": "code",
   "execution_count": 504,
   "metadata": {},
   "outputs": [],
   "source": [
    "answer_ls.append(2)"
   ]
  },
  {
   "cell_type": "markdown",
   "metadata": {},
   "source": [
    "# 31. Названия фильмов какой студии в среднем самые длинные по количеству символов?\n",
    "Варианты ответа:\n",
    "1. Universal Pictures (Universal)\n",
    "2. Warner Bros\n",
    "3. Jim Henson Company, The\n",
    "4. Paramount Pictures\n",
    "5. Four By Two Productions"
   ]
  },
  {
   "cell_type": "code",
   "execution_count": 521,
   "metadata": {
    "scrolled": true
   },
   "outputs": [
    {
     "name": "stdout",
     "output_type": "stream",
     "text": [
      "[('Four By Two Productions', 83.0)]\n"
     ]
    }
   ],
   "source": [
    "data = pd.read_csv('./data.csv')\n",
    "\n",
    "data['len'] = data.original_title.apply(lambda t: len(t))\n",
    "\n",
    "\n",
    "import collections\n",
    "c = collections.Counter()\n",
    "\n",
    "for x in data.imdb_id:\n",
    "    d = data[data.imdb_id == x]\n",
    "    pc = d.production_companies.iloc[0]\n",
    "    ln = d.len.iloc[0]\n",
    "    for s in pc.split('|'):\n",
    "        c[s] += ln\n",
    "\n",
    "for s, l in c.items():\n",
    "    d = data[data.production_companies.str.contains(s, na = False, regex=False)]\n",
    "    cnt = d.original_title.count()\n",
    "    c[s] = l / cnt\n",
    "\n",
    "print(c.most_common(1))"
   ]
  },
  {
   "cell_type": "code",
   "execution_count": 295,
   "metadata": {},
   "outputs": [],
   "source": [
    "answer_ls.append(5)"
   ]
  },
  {
   "cell_type": "markdown",
   "metadata": {},
   "source": [
    "# 32. Названия фильмов какой студии в среднем самые длинные по количеству слов?\n",
    "Варианты ответа:\n",
    "1. Universal Pictures (Universal)\n",
    "2. Warner Bros\n",
    "3. Jim Henson Company, The\n",
    "4. Paramount Pictures\n",
    "5. Four By Two Productions"
   ]
  },
  {
   "cell_type": "code",
   "execution_count": 351,
   "metadata": {},
   "outputs": [
    {
     "name": "stdout",
     "output_type": "stream",
     "text": [
      "[('Four By Two Productions', 12.0)]\n"
     ]
    }
   ],
   "source": [
    "data = pd.read_csv('./data.csv')\n",
    "\n",
    "data['len'] = data.original_title.apply(lambda t: len(t.split(' ')))\n",
    "\n",
    "\n",
    "import collections\n",
    "c = collections.Counter()\n",
    "\n",
    "for x in data.imdb_id:\n",
    "    d = data[data.imdb_id == x]\n",
    "    pc = d.production_companies.iloc[0]\n",
    "    ln = d.len.iloc[0]\n",
    "    for s in pc.split('|'):\n",
    "        c[s] += ln\n",
    "\n",
    "for s, l in c.items():\n",
    "    d = data[data.production_companies.str.contains(s, na = False, regex=False)]\n",
    "    cnt = d.original_title.count()\n",
    "    c[s] = l / cnt\n",
    "\n",
    "print(c.most_common(1))\n"
   ]
  },
  {
   "cell_type": "code",
   "execution_count": 297,
   "metadata": {},
   "outputs": [],
   "source": [
    "answer_ls.append(5)"
   ]
  },
  {
   "cell_type": "markdown",
   "metadata": {},
   "source": [
    "# 33. Сколько разных слов используется в названиях фильмов?(без учета регистра)\n",
    "Варианты ответа:\n",
    "1. 6540\n",
    "2. 1002\n",
    "3. 2461\n",
    "4. 28304\n",
    "5. 3432"
   ]
  },
  {
   "cell_type": "code",
   "execution_count": 522,
   "metadata": {},
   "outputs": [
    {
     "name": "stdout",
     "output_type": "stream",
     "text": [
      "2461\n"
     ]
    }
   ],
   "source": [
    "data = pd.read_csv('./data.csv')\n",
    "import re \n",
    "\n",
    "import collections\n",
    "c = collections.Counter()\n",
    "\n",
    "for t in data.original_title:\n",
    "    for s in t.split(' '):\n",
    "        if s in '.?!':\n",
    "            continue\n",
    "        c[s.lower()] += 1\n",
    "print(len(c))\n"
   ]
  },
  {
   "cell_type": "code",
   "execution_count": 342,
   "metadata": {},
   "outputs": [],
   "source": [
    "answer_ls.append(3)"
   ]
  },
  {
   "cell_type": "markdown",
   "metadata": {},
   "source": [
    "# 34. Какие фильмы входят в 1 процент лучших по рейтингу?\n",
    "Варианты ответа:\n",
    "1. Inside Out, Gone Girl, 12 Years a Slave\n",
    "2. BloodRayne, The Adventures of Rocky & Bullwinkle\n",
    "3. The Lord of the Rings: The Return of the King\n",
    "4. 300, Lucky Number Slevin"
   ]
  },
  {
   "cell_type": "code",
   "execution_count": 9,
   "metadata": {},
   "outputs": [
    {
     "name": "stdout",
     "output_type": "stream",
     "text": [
      "['Inside Out', 'Gone Girl', '12 Years a Slave']\n",
      "['The Lord of the Rings: The Return of the King']\n"
     ]
    }
   ],
   "source": [
    "data = pd.read_csv('./data.csv')\n",
    "\n",
    "prec = data.imdb_id.count() * 0.01\n",
    "d = data.sort_values(['vote_average'], ascending=False).head(int(prec))\n",
    "\n",
    "ls1 = ['Inside Out', 'Gone Girl', '12 Years a Slave']\n",
    "ls2 = ['BloodRayne', 'The Adventures of Rocky & Bullwinkl']\n",
    "ls3 = ['The Lord of the Rings: The Return of the King']\n",
    "ls4 = ['300', 'Lucky Number Slevin']\n",
    "\n",
    "for l in ls1:\n",
    "    if d[d.original_title == l].imdb_id.count() == 0:\n",
    "        break\n",
    "else:\n",
    "    print(ls1)\n",
    "    \n",
    "for l in ls2:\n",
    "    if d[d.original_title == l].imdb_id.count() == 0:\n",
    "        break\n",
    "else:\n",
    "    print(ls2)\n",
    "\n",
    "for l in ls3:\n",
    "    if d[d.original_title == l].imdb_id.count() == 0:\n",
    "        break\n",
    "else:\n",
    "    print(ls3)\n",
    "\n",
    "for l in ls4:\n",
    "    if d[d.original_title == l].imdb_id.count() == 0:\n",
    "        break\n",
    "else:\n",
    "    print(ls4)\n"
   ]
  },
  {
   "cell_type": "code",
   "execution_count": 333,
   "metadata": {},
   "outputs": [],
   "source": [
    "answer_ls.append(1)"
   ]
  },
  {
   "cell_type": "markdown",
   "metadata": {},
   "source": [
    "# 35. Какие актеры чаще всего снимаются в одном фильме вместе\n",
    "Варианты ответа:\n",
    "1. Johnny Depp & Helena Bonham Carter\n",
    "2. Hugh Jackman & Ian McKellen\n",
    "3. Vin Diesel & Paul Walker\n",
    "4. Adam Sandler & Kevin James\n",
    "5. Daniel Radcliffe & Rupert Grint"
   ]
  },
  {
   "cell_type": "code",
   "execution_count": 320,
   "metadata": {},
   "outputs": [
    {
     "name": "stdout",
     "output_type": "stream",
     "text": [
      "[(('Daniel Radcliffe', 'Emma Watson'), 8), (('Daniel Radcliffe', 'Rupert Grint'), 8), (('Emma Watson', 'Rupert Grint'), 8)]\n"
     ]
    }
   ],
   "source": [
    "data = pd.read_csv('./data.csv')\n",
    "\n",
    "\n",
    "import collections\n",
    "from itertools import combinations\n",
    "c = collections.Counter()\n",
    "\n",
    "act_list = []\n",
    "\n",
    "\n",
    "for x in data.cast:\n",
    "    for a in x.split('|'):\n",
    "        act_list.append(a)\n",
    "    act_list.sort()\n",
    "    d = list(combinations(act_list, 2))\n",
    "    act_list.clear()\n",
    "    for i in d:\n",
    "        c[i] +=1\n",
    "    \n",
    "        \n",
    "print(c.most_common(3))"
   ]
  },
  {
   "cell_type": "code",
   "execution_count": 303,
   "metadata": {},
   "outputs": [],
   "source": [
    "answer_ls.append(5)"
   ]
  },
  {
   "cell_type": "markdown",
   "metadata": {},
   "source": [
    "# 36. У какого из режиссеров выше вероятность выпустить фильм в прибыли? (5 баллов)101\n",
    "Варианты ответа:\n",
    "1. Quentin Tarantino\n",
    "2. Steven Soderbergh\n",
    "3. Robert Rodriguez\n",
    "4. Christopher Nolan\n",
    "5. Clint Eastwood"
   ]
  },
  {
   "cell_type": "code",
   "execution_count": 541,
   "metadata": {},
   "outputs": [
    {
     "data": {
      "text/html": [
       "<div>\n",
       "<style scoped>\n",
       "    .dataframe tbody tr th:only-of-type {\n",
       "        vertical-align: middle;\n",
       "    }\n",
       "\n",
       "    .dataframe tbody tr th {\n",
       "        vertical-align: top;\n",
       "    }\n",
       "\n",
       "    .dataframe thead th {\n",
       "        text-align: right;\n",
       "    }\n",
       "</style>\n",
       "<table border=\"1\" class=\"dataframe\">\n",
       "  <thead>\n",
       "    <tr style=\"text-align: right;\">\n",
       "      <th></th>\n",
       "      <th>director</th>\n",
       "      <th>all_films</th>\n",
       "      <th>profit_films</th>\n",
       "      <th>factor</th>\n",
       "    </tr>\n",
       "  </thead>\n",
       "  <tbody>\n",
       "    <tr>\n",
       "      <td>17</td>\n",
       "      <td>Quentin Tarantino</td>\n",
       "      <td>7</td>\n",
       "      <td>6</td>\n",
       "      <td>0.857143</td>\n",
       "    </tr>\n",
       "    <tr>\n",
       "      <td>122</td>\n",
       "      <td>Christopher Nolan</td>\n",
       "      <td>8</td>\n",
       "      <td>8</td>\n",
       "      <td>1.000000</td>\n",
       "    </tr>\n",
       "    <tr>\n",
       "      <td>148</td>\n",
       "      <td>Clint Eastwood</td>\n",
       "      <td>12</td>\n",
       "      <td>10</td>\n",
       "      <td>0.833333</td>\n",
       "    </tr>\n",
       "    <tr>\n",
       "      <td>190</td>\n",
       "      <td>Robert Rodriguez</td>\n",
       "      <td>11</td>\n",
       "      <td>8</td>\n",
       "      <td>0.727273</td>\n",
       "    </tr>\n",
       "    <tr>\n",
       "      <td>289</td>\n",
       "      <td>Steven Soderbergh</td>\n",
       "      <td>13</td>\n",
       "      <td>10</td>\n",
       "      <td>0.769231</td>\n",
       "    </tr>\n",
       "  </tbody>\n",
       "</table>\n",
       "</div>"
      ],
      "text/plain": [
       "              director  all_films  profit_films    factor\n",
       "17   Quentin Tarantino          7             6  0.857143\n",
       "122  Christopher Nolan          8             8  1.000000\n",
       "148     Clint Eastwood         12            10  0.833333\n",
       "190   Robert Rodriguez         11             8  0.727273\n",
       "289  Steven Soderbergh         13            10  0.769231"
      ]
     },
     "execution_count": 541,
     "metadata": {},
     "output_type": "execute_result"
    }
   ],
   "source": [
    "data = pd.read_csv('./data.csv')\n",
    "\n",
    "data['profit'] = data.revenue - data.budget\n",
    "pdata = data[data.profit > 0]\n",
    "\n",
    "import collections\n",
    "profit_films = collections.Counter()\n",
    "all_films = collections.Counter()\n",
    "\n",
    "for x in data.director:\n",
    "    for d in x.split('|'):\n",
    "        all_films[d] = data[data.director.str.contains(d, na = False, regex=False)].imdb_id.count()\n",
    "        profit_films[d] = pdata[pdata.director.str.contains(d, na = False, regex=False)].imdb_id.count()\n",
    "\n",
    "profit_films = pd.DataFrame.from_dict(profit_films, orient='index').reset_index()\n",
    "all_films = pd.DataFrame.from_dict(all_films, orient='index').reset_index()\n",
    "\n",
    "profit_films.columns = ['director', 'profit_films']\n",
    "all_films.columns = ['director', 'all_films']\n",
    "\n",
    "d = all_films.merge(profit_films, on='director')\n",
    "d['factor'] = d.profit_films / d.all_films\n",
    "\n",
    "ls = ['Quentin Tarantino', 'Steven Soderbergh', 'Robert Rodriguez', 'Christopher Nolan', 'Clint Eastwood']\n",
    "\n",
    "d[d.director.isin(ls)] \n"
   ]
  },
  {
   "cell_type": "code",
   "execution_count": 542,
   "metadata": {},
   "outputs": [],
   "source": [
    "answer_ls.append(4)"
   ]
  },
  {
   "cell_type": "markdown",
   "metadata": {},
   "source": [
    "# Submission"
   ]
  },
  {
   "cell_type": "code",
   "execution_count": 306,
   "metadata": {},
   "outputs": [
    {
     "data": {
      "text/plain": [
       "36"
      ]
     },
     "execution_count": 306,
     "metadata": {},
     "output_type": "execute_result"
    }
   ],
   "source": [
    "len(answer_ls)"
   ]
  },
  {
   "cell_type": "code",
   "execution_count": 307,
   "metadata": {},
   "outputs": [
    {
     "data": {
      "text/html": [
       "<div>\n",
       "<style scoped>\n",
       "    .dataframe tbody tr th:only-of-type {\n",
       "        vertical-align: middle;\n",
       "    }\n",
       "\n",
       "    .dataframe tbody tr th {\n",
       "        vertical-align: top;\n",
       "    }\n",
       "\n",
       "    .dataframe thead th {\n",
       "        text-align: right;\n",
       "    }\n",
       "</style>\n",
       "<table border=\"1\" class=\"dataframe\">\n",
       "  <thead>\n",
       "    <tr style=\"text-align: right;\">\n",
       "      <th></th>\n",
       "      <th>Id</th>\n",
       "      <th>Answer</th>\n",
       "    </tr>\n",
       "  </thead>\n",
       "  <tbody>\n",
       "    <tr>\n",
       "      <td>0</td>\n",
       "      <td>1</td>\n",
       "      <td>4</td>\n",
       "    </tr>\n",
       "    <tr>\n",
       "      <td>1</td>\n",
       "      <td>2</td>\n",
       "      <td>2</td>\n",
       "    </tr>\n",
       "    <tr>\n",
       "      <td>2</td>\n",
       "      <td>3</td>\n",
       "      <td>3</td>\n",
       "    </tr>\n",
       "    <tr>\n",
       "      <td>3</td>\n",
       "      <td>4</td>\n",
       "      <td>2</td>\n",
       "    </tr>\n",
       "    <tr>\n",
       "      <td>4</td>\n",
       "      <td>5</td>\n",
       "      <td>1</td>\n",
       "    </tr>\n",
       "    <tr>\n",
       "      <td>5</td>\n",
       "      <td>6</td>\n",
       "      <td>5</td>\n",
       "    </tr>\n",
       "    <tr>\n",
       "      <td>6</td>\n",
       "      <td>7</td>\n",
       "      <td>2</td>\n",
       "    </tr>\n",
       "    <tr>\n",
       "      <td>7</td>\n",
       "      <td>8</td>\n",
       "      <td>1</td>\n",
       "    </tr>\n",
       "    <tr>\n",
       "      <td>8</td>\n",
       "      <td>9</td>\n",
       "      <td>4</td>\n",
       "    </tr>\n",
       "    <tr>\n",
       "      <td>9</td>\n",
       "      <td>10</td>\n",
       "      <td>5</td>\n",
       "    </tr>\n",
       "    <tr>\n",
       "      <td>10</td>\n",
       "      <td>11</td>\n",
       "      <td>3</td>\n",
       "    </tr>\n",
       "    <tr>\n",
       "      <td>11</td>\n",
       "      <td>12</td>\n",
       "      <td>1</td>\n",
       "    </tr>\n",
       "    <tr>\n",
       "      <td>12</td>\n",
       "      <td>13</td>\n",
       "      <td>1</td>\n",
       "    </tr>\n",
       "    <tr>\n",
       "      <td>13</td>\n",
       "      <td>14</td>\n",
       "      <td>4</td>\n",
       "    </tr>\n",
       "    <tr>\n",
       "      <td>14</td>\n",
       "      <td>15</td>\n",
       "      <td>5</td>\n",
       "    </tr>\n",
       "    <tr>\n",
       "      <td>15</td>\n",
       "      <td>16</td>\n",
       "      <td>1</td>\n",
       "    </tr>\n",
       "    <tr>\n",
       "      <td>16</td>\n",
       "      <td>17</td>\n",
       "      <td>3</td>\n",
       "    </tr>\n",
       "    <tr>\n",
       "      <td>17</td>\n",
       "      <td>18</td>\n",
       "      <td>3</td>\n",
       "    </tr>\n",
       "    <tr>\n",
       "      <td>18</td>\n",
       "      <td>19</td>\n",
       "      <td>2</td>\n",
       "    </tr>\n",
       "    <tr>\n",
       "      <td>19</td>\n",
       "      <td>20</td>\n",
       "      <td>1</td>\n",
       "    </tr>\n",
       "    <tr>\n",
       "      <td>20</td>\n",
       "      <td>21</td>\n",
       "      <td>4</td>\n",
       "    </tr>\n",
       "    <tr>\n",
       "      <td>21</td>\n",
       "      <td>22</td>\n",
       "      <td>2</td>\n",
       "    </tr>\n",
       "    <tr>\n",
       "      <td>22</td>\n",
       "      <td>23</td>\n",
       "      <td>3</td>\n",
       "    </tr>\n",
       "    <tr>\n",
       "      <td>23</td>\n",
       "      <td>24</td>\n",
       "      <td>1</td>\n",
       "    </tr>\n",
       "    <tr>\n",
       "      <td>24</td>\n",
       "      <td>25</td>\n",
       "      <td>5</td>\n",
       "    </tr>\n",
       "    <tr>\n",
       "      <td>25</td>\n",
       "      <td>26</td>\n",
       "      <td>1</td>\n",
       "    </tr>\n",
       "    <tr>\n",
       "      <td>26</td>\n",
       "      <td>27</td>\n",
       "      <td>4</td>\n",
       "    </tr>\n",
       "    <tr>\n",
       "      <td>27</td>\n",
       "      <td>28</td>\n",
       "      <td>2</td>\n",
       "    </tr>\n",
       "    <tr>\n",
       "      <td>28</td>\n",
       "      <td>29</td>\n",
       "      <td>5</td>\n",
       "    </tr>\n",
       "    <tr>\n",
       "      <td>29</td>\n",
       "      <td>30</td>\n",
       "      <td>3</td>\n",
       "    </tr>\n",
       "    <tr>\n",
       "      <td>30</td>\n",
       "      <td>31</td>\n",
       "      <td>5</td>\n",
       "    </tr>\n",
       "    <tr>\n",
       "      <td>31</td>\n",
       "      <td>32</td>\n",
       "      <td>5</td>\n",
       "    </tr>\n",
       "    <tr>\n",
       "      <td>32</td>\n",
       "      <td>33</td>\n",
       "      <td>3</td>\n",
       "    </tr>\n",
       "    <tr>\n",
       "      <td>33</td>\n",
       "      <td>34</td>\n",
       "      <td>3</td>\n",
       "    </tr>\n",
       "    <tr>\n",
       "      <td>34</td>\n",
       "      <td>35</td>\n",
       "      <td>5</td>\n",
       "    </tr>\n",
       "    <tr>\n",
       "      <td>35</td>\n",
       "      <td>36</td>\n",
       "      <td>2</td>\n",
       "    </tr>\n",
       "  </tbody>\n",
       "</table>\n",
       "</div>"
      ],
      "text/plain": [
       "    Id  Answer\n",
       "0    1       4\n",
       "1    2       2\n",
       "2    3       3\n",
       "3    4       2\n",
       "4    5       1\n",
       "5    6       5\n",
       "6    7       2\n",
       "7    8       1\n",
       "8    9       4\n",
       "9   10       5\n",
       "10  11       3\n",
       "11  12       1\n",
       "12  13       1\n",
       "13  14       4\n",
       "14  15       5\n",
       "15  16       1\n",
       "16  17       3\n",
       "17  18       3\n",
       "18  19       2\n",
       "19  20       1\n",
       "20  21       4\n",
       "21  22       2\n",
       "22  23       3\n",
       "23  24       1\n",
       "24  25       5\n",
       "25  26       1\n",
       "26  27       4\n",
       "27  28       2\n",
       "28  29       5\n",
       "29  30       3\n",
       "30  31       5\n",
       "31  32       5\n",
       "32  33       3\n",
       "33  34       3\n",
       "34  35       5\n",
       "35  36       2"
      ]
     },
     "execution_count": 307,
     "metadata": {},
     "output_type": "execute_result"
    }
   ],
   "source": [
    "pd.DataFrame({'Id':range(1,len(answer_ls)+1), 'Answer':answer_ls}, columns=['Id', 'Answer'])"
   ]
  }
 ],
 "metadata": {
  "kernelspec": {
   "display_name": "Python 3",
   "language": "python",
   "name": "python3"
  },
  "language_info": {
   "codemirror_mode": {
    "name": "ipython",
    "version": 3
   },
   "file_extension": ".py",
   "mimetype": "text/x-python",
   "name": "python",
   "nbconvert_exporter": "python",
   "pygments_lexer": "ipython3",
   "version": "3.7.4"
  }
 },
 "nbformat": 4,
 "nbformat_minor": 4
}

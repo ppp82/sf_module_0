{
 "cells": [
  {
   "cell_type": "code",
   "execution_count": 3,
   "metadata": {},
   "outputs": [],
   "source": [
    "import numpy as np\n"
   ]
  },
  {
   "cell_type": "code",
   "execution_count": 21,
   "metadata": {},
   "outputs": [],
   "source": [
    "class Game_core_v2(object):  \n",
    "    \n",
    "    def __init__(self, mn, mx):\n",
    "        self.setMin(mn)\n",
    "        self.setMax(mx)\n",
    "        self.count = 0\n",
    "        \n",
    "    def getPredict(self):\n",
    "        middle = (self.maxx - self.minn) // 2\n",
    "        return self.minn + middle\n",
    "    \n",
    "    def setMax(self, mx):\n",
    "        self.maxx = mx\n",
    "        \n",
    "    def setMin(self, mn):\n",
    "        self.minn = mn\n",
    "        \n",
    "    def addCount(self):\n",
    "        self.count += 1\n",
    "    \n",
    "    def play(self, number):\n",
    "        self.addCount()\n",
    "        \n",
    "        predict = self.getPredict()  #'Первое значение берем из середины диапазона'\n",
    "        while number != predict:\n",
    "            self.addCount()\n",
    "            if number > predict: #'Если число больше, то смещаем минимум\n",
    "                self.setMin(predict + 1)\n",
    "            elif number < predict: #'Если число меньше, то смещаем максимум\n",
    "                self.setMax(predict - 1)       \n",
    "            predict = self.getPredict()\n",
    "        return(self.count) # выход из цикла, если угадали"
   ]
  },
  {
   "cell_type": "code",
   "execution_count": 22,
   "metadata": {},
   "outputs": [],
   "source": [
    "def score_game():\n",
    "    '''Запускаем игру 1000 раз, чтоб узнать как быстро игра угадывает число'''\n",
    "    count_ls = []\n",
    "    np.random.seed(2)  # фиксируем RANDOM SEED, чтобы ваш эксперимент был воспроизводим!\n",
    "    random_array = np.random.randint(1, 101, size=(1000))\n",
    "    for number in random_array:\n",
    "        game = Game_core_v2(0, 100)\n",
    "        count_ls.append(game.play(number))\n",
    "    score = int(np.mean(count_ls))\n",
    "    print(f\"Ваш алгоритм угадывает число в среднем за {score} попыток\")\n",
    "    return(score)"
   ]
  },
  {
   "cell_type": "code",
   "execution_count": 23,
   "metadata": {},
   "outputs": [
    {
     "name": "stdout",
     "output_type": "stream",
     "text": [
      "Ваш алгоритм угадывает число в среднем за 5 попыток\n"
     ]
    },
    {
     "data": {
      "text/plain": [
       "5"
      ]
     },
     "execution_count": 23,
     "metadata": {},
     "output_type": "execute_result"
    }
   ],
   "source": [
    "score_game()"
   ]
  },
  {
   "cell_type": "code",
   "execution_count": null,
   "metadata": {},
   "outputs": [],
   "source": []
  },
  {
   "cell_type": "code",
   "execution_count": null,
   "metadata": {},
   "outputs": [],
   "source": []
  }
 ],
 "metadata": {
  "kernelspec": {
   "display_name": "Python 3",
   "language": "python",
   "name": "python3"
  },
  "language_info": {
   "codemirror_mode": {
    "name": "ipython",
    "version": 3
   },
   "file_extension": ".py",
   "mimetype": "text/x-python",
   "name": "python",
   "nbconvert_exporter": "python",
   "pygments_lexer": "ipython3",
   "version": "3.7.4"
  }
 },
 "nbformat": 4,
 "nbformat_minor": 2
}
